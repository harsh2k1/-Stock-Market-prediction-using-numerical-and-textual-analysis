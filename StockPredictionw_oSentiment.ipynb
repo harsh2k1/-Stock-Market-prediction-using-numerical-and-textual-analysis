{
  "nbformat": 4,
  "nbformat_minor": 0,
  "metadata": {
    "kernelspec": {
      "display_name": "Python 3",
      "language": "python",
      "name": "python3"
    },
    "language_info": {
      "codemirror_mode": {
        "name": "ipython",
        "version": 3
      },
      "file_extension": ".py",
      "mimetype": "text/x-python",
      "name": "python",
      "nbconvert_exporter": "python",
      "pygments_lexer": "ipython3",
      "version": "3.8.3"
    },
    "colab": {
      "name": "StockPredictionw/oSentiment",
      "provenance": [],
      "collapsed_sections": [],
      "include_colab_link": true
    },
    "accelerator": "GPU"
  },
  "cells": [
    {
      "cell_type": "markdown",
      "metadata": {
        "id": "view-in-github",
        "colab_type": "text"
      },
      "source": [
        "<a href=\"https://colab.research.google.com/github/harsh2k1/-Stock-Market-prediction-using-numerical-and-textual-analysis/blob/main/StockPredictionw_oSentiment.ipynb\" target=\"_parent\"><img src=\"https://colab.research.google.com/assets/colab-badge.svg\" alt=\"Open In Colab\"/></a>"
      ]
    },
    {
      "cell_type": "markdown",
      "metadata": {
        "id": "Gl5dhMg_bUxb"
      },
      "source": [
        "## Name: Harshpreet Singh\n",
        "## Name: Harshpreet Singh\n",
        "##Task-1 GRIP-October 2021\n",
        "##Stock Market prediction using numerical and textual analysis\n",
        "##Level: Advanced\n"
      ]
    },
    {
      "cell_type": "markdown",
      "metadata": {
        "id": "SYyjb7brLPua"
      },
      "source": [
        "### Stock Market Prediction And Forecasting Using Stacked LSTM"
      ]
    },
    {
      "cell_type": "code",
      "metadata": {
        "id": "fUWfbEh8kOUc"
      },
      "source": [
        "#pip install yfinance"
      ],
      "execution_count": null,
      "outputs": []
    },
    {
      "cell_type": "code",
      "metadata": {
        "id": "YDrEcXEOLPuf"
      },
      "source": [
        "import pandas as pd\n",
        "import numpy as np\n",
        "import warnings\n",
        "warnings.filterwarnings('ignore')\n",
        "import matplotlib.pyplot as plt\n",
        "import seaborn as sns\n",
        "import yfinance as yf"
      ],
      "execution_count": null,
      "outputs": []
    },
    {
      "cell_type": "code",
      "metadata": {
        "id": "Gx8h8qo3LPuh",
        "colab": {
          "base_uri": "https://localhost:8080/"
        },
        "outputId": "ac7d4f8f-5386-4e6b-86fd-94efb336da0f"
      },
      "source": [
        "# path = 'https://raw.githubusercontent.com/mwitiderrick/stockprice/master/NSE-TATAGLOBAL.csv'\n",
        "# df=pd.read_csv(path)\n",
        "df = yf.download('^BSESN', start='2001-01-01', end='2021-10-05')"
      ],
      "execution_count": null,
      "outputs": [
        {
          "output_type": "stream",
          "name": "stdout",
          "text": [
            "\r[*********************100%***********************]  1 of 1 completed\n"
          ]
        }
      ]
    },
    {
      "cell_type": "code",
      "metadata": {
        "colab": {
          "base_uri": "https://localhost:8080/",
          "height": 234
        },
        "id": "hW4HOu5nLPui",
        "outputId": "72fb7398-ad10-40d7-a6d6-9af0ffb7a80a"
      },
      "source": [
        "df.head()"
      ],
      "execution_count": null,
      "outputs": [
        {
          "output_type": "execute_result",
          "data": {
            "text/html": [
              "<div>\n",
              "<style scoped>\n",
              "    .dataframe tbody tr th:only-of-type {\n",
              "        vertical-align: middle;\n",
              "    }\n",
              "\n",
              "    .dataframe tbody tr th {\n",
              "        vertical-align: top;\n",
              "    }\n",
              "\n",
              "    .dataframe thead th {\n",
              "        text-align: right;\n",
              "    }\n",
              "</style>\n",
              "<table border=\"1\" class=\"dataframe\">\n",
              "  <thead>\n",
              "    <tr style=\"text-align: right;\">\n",
              "      <th></th>\n",
              "      <th>Open</th>\n",
              "      <th>High</th>\n",
              "      <th>Low</th>\n",
              "      <th>Close</th>\n",
              "      <th>Adj Close</th>\n",
              "      <th>Volume</th>\n",
              "    </tr>\n",
              "    <tr>\n",
              "      <th>Date</th>\n",
              "      <th></th>\n",
              "      <th></th>\n",
              "      <th></th>\n",
              "      <th></th>\n",
              "      <th></th>\n",
              "      <th></th>\n",
              "    </tr>\n",
              "  </thead>\n",
              "  <tbody>\n",
              "    <tr>\n",
              "      <th>2001-01-02</th>\n",
              "      <td>3953.219971</td>\n",
              "      <td>4028.570068</td>\n",
              "      <td>3929.370117</td>\n",
              "      <td>4018.879883</td>\n",
              "      <td>4018.879883</td>\n",
              "      <td>0</td>\n",
              "    </tr>\n",
              "    <tr>\n",
              "      <th>2001-01-03</th>\n",
              "      <td>3977.580078</td>\n",
              "      <td>4067.659912</td>\n",
              "      <td>3977.580078</td>\n",
              "      <td>4060.020020</td>\n",
              "      <td>4060.020020</td>\n",
              "      <td>0</td>\n",
              "    </tr>\n",
              "    <tr>\n",
              "      <th>2001-01-04</th>\n",
              "      <td>4180.970215</td>\n",
              "      <td>4180.970215</td>\n",
              "      <td>4109.549805</td>\n",
              "      <td>4115.370117</td>\n",
              "      <td>4115.370117</td>\n",
              "      <td>0</td>\n",
              "    </tr>\n",
              "    <tr>\n",
              "      <th>2001-01-05</th>\n",
              "      <td>4116.339844</td>\n",
              "      <td>4195.009766</td>\n",
              "      <td>4115.350098</td>\n",
              "      <td>4183.729980</td>\n",
              "      <td>4183.729980</td>\n",
              "      <td>0</td>\n",
              "    </tr>\n",
              "    <tr>\n",
              "      <th>2001-01-08</th>\n",
              "      <td>4164.759766</td>\n",
              "      <td>4206.720215</td>\n",
              "      <td>4101.529785</td>\n",
              "      <td>4120.430176</td>\n",
              "      <td>4120.430176</td>\n",
              "      <td>0</td>\n",
              "    </tr>\n",
              "  </tbody>\n",
              "</table>\n",
              "</div>"
            ],
            "text/plain": [
              "                   Open         High  ...    Adj Close  Volume\n",
              "Date                                  ...                     \n",
              "2001-01-02  3953.219971  4028.570068  ...  4018.879883       0\n",
              "2001-01-03  3977.580078  4067.659912  ...  4060.020020       0\n",
              "2001-01-04  4180.970215  4180.970215  ...  4115.370117       0\n",
              "2001-01-05  4116.339844  4195.009766  ...  4183.729980       0\n",
              "2001-01-08  4164.759766  4206.720215  ...  4120.430176       0\n",
              "\n",
              "[5 rows x 6 columns]"
            ]
          },
          "metadata": {},
          "execution_count": 4
        }
      ]
    },
    {
      "cell_type": "code",
      "metadata": {
        "colab": {
          "base_uri": "https://localhost:8080/",
          "height": 234
        },
        "id": "9NUZZE_VLPuk",
        "outputId": "68173b07-5526-4cc5-9d30-93b0664a1793"
      },
      "source": [
        "df.tail()"
      ],
      "execution_count": null,
      "outputs": [
        {
          "output_type": "execute_result",
          "data": {
            "text/html": [
              "<div>\n",
              "<style scoped>\n",
              "    .dataframe tbody tr th:only-of-type {\n",
              "        vertical-align: middle;\n",
              "    }\n",
              "\n",
              "    .dataframe tbody tr th {\n",
              "        vertical-align: top;\n",
              "    }\n",
              "\n",
              "    .dataframe thead th {\n",
              "        text-align: right;\n",
              "    }\n",
              "</style>\n",
              "<table border=\"1\" class=\"dataframe\">\n",
              "  <thead>\n",
              "    <tr style=\"text-align: right;\">\n",
              "      <th></th>\n",
              "      <th>Open</th>\n",
              "      <th>High</th>\n",
              "      <th>Low</th>\n",
              "      <th>Close</th>\n",
              "      <th>Adj Close</th>\n",
              "      <th>Volume</th>\n",
              "    </tr>\n",
              "    <tr>\n",
              "      <th>Date</th>\n",
              "      <th></th>\n",
              "      <th></th>\n",
              "      <th></th>\n",
              "      <th></th>\n",
              "      <th></th>\n",
              "      <th></th>\n",
              "    </tr>\n",
              "  </thead>\n",
              "  <tbody>\n",
              "    <tr>\n",
              "      <th>2021-09-28</th>\n",
              "      <td>60285.890625</td>\n",
              "      <td>60288.441406</td>\n",
              "      <td>59045.531250</td>\n",
              "      <td>59667.601562</td>\n",
              "      <td>59667.601562</td>\n",
              "      <td>21100</td>\n",
              "    </tr>\n",
              "    <tr>\n",
              "      <th>2021-09-29</th>\n",
              "      <td>59296.539062</td>\n",
              "      <td>59678.660156</td>\n",
              "      <td>59111.410156</td>\n",
              "      <td>59413.269531</td>\n",
              "      <td>59413.269531</td>\n",
              "      <td>16100</td>\n",
              "    </tr>\n",
              "    <tr>\n",
              "      <th>2021-09-30</th>\n",
              "      <td>59549.570312</td>\n",
              "      <td>59557.238281</td>\n",
              "      <td>59019.281250</td>\n",
              "      <td>59126.359375</td>\n",
              "      <td>59126.359375</td>\n",
              "      <td>8900</td>\n",
              "    </tr>\n",
              "    <tr>\n",
              "      <th>2021-10-01</th>\n",
              "      <td>58889.769531</td>\n",
              "      <td>58890.078125</td>\n",
              "      <td>58551.140625</td>\n",
              "      <td>58765.578125</td>\n",
              "      <td>58765.578125</td>\n",
              "      <td>10200</td>\n",
              "    </tr>\n",
              "    <tr>\n",
              "      <th>2021-10-04</th>\n",
              "      <td>59143.000000</td>\n",
              "      <td>59548.820312</td>\n",
              "      <td>58952.109375</td>\n",
              "      <td>59299.320312</td>\n",
              "      <td>59299.320312</td>\n",
              "      <td>10000</td>\n",
              "    </tr>\n",
              "  </tbody>\n",
              "</table>\n",
              "</div>"
            ],
            "text/plain": [
              "                    Open          High  ...     Adj Close  Volume\n",
              "Date                                    ...                      \n",
              "2021-09-28  60285.890625  60288.441406  ...  59667.601562   21100\n",
              "2021-09-29  59296.539062  59678.660156  ...  59413.269531   16100\n",
              "2021-09-30  59549.570312  59557.238281  ...  59126.359375    8900\n",
              "2021-10-01  58889.769531  58890.078125  ...  58765.578125   10200\n",
              "2021-10-04  59143.000000  59548.820312  ...  59299.320312   10000\n",
              "\n",
              "[5 rows x 6 columns]"
            ]
          },
          "metadata": {},
          "execution_count": 5
        }
      ]
    },
    {
      "cell_type": "code",
      "metadata": {
        "colab": {
          "base_uri": "https://localhost:8080/"
        },
        "id": "CTqhmpVlLZcU",
        "outputId": "0f9e468e-91d3-4f67-e4cb-c58b49e690f7"
      },
      "source": [
        "df.isnull().sum()"
      ],
      "execution_count": null,
      "outputs": [
        {
          "output_type": "execute_result",
          "data": {
            "text/plain": [
              "Open         0\n",
              "High         0\n",
              "Low          0\n",
              "Close        0\n",
              "Adj Close    0\n",
              "Volume       0\n",
              "dtype: int64"
            ]
          },
          "metadata": {},
          "execution_count": 6
        }
      ]
    },
    {
      "cell_type": "code",
      "metadata": {
        "colab": {
          "base_uri": "https://localhost:8080/"
        },
        "id": "Q1C24DpJLZSU",
        "outputId": "43b84b20-b6b1-47b2-f3f9-e14591a0f698"
      },
      "source": [
        "df.dtypes"
      ],
      "execution_count": null,
      "outputs": [
        {
          "output_type": "execute_result",
          "data": {
            "text/plain": [
              "Open         float64\n",
              "High         float64\n",
              "Low          float64\n",
              "Close        float64\n",
              "Adj Close    float64\n",
              "Volume         int64\n",
              "dtype: object"
            ]
          },
          "metadata": {},
          "execution_count": 7
        }
      ]
    },
    {
      "cell_type": "code",
      "metadata": {
        "colab": {
          "base_uri": "https://localhost:8080/",
          "height": 234
        },
        "id": "HDGsLi4lLeQE",
        "outputId": "24366a38-4295-402a-f728-15ca8d61fb57"
      },
      "source": [
        "df.describe().T"
      ],
      "execution_count": null,
      "outputs": [
        {
          "output_type": "execute_result",
          "data": {
            "text/html": [
              "<div>\n",
              "<style scoped>\n",
              "    .dataframe tbody tr th:only-of-type {\n",
              "        vertical-align: middle;\n",
              "    }\n",
              "\n",
              "    .dataframe tbody tr th {\n",
              "        vertical-align: top;\n",
              "    }\n",
              "\n",
              "    .dataframe thead th {\n",
              "        text-align: right;\n",
              "    }\n",
              "</style>\n",
              "<table border=\"1\" class=\"dataframe\">\n",
              "  <thead>\n",
              "    <tr style=\"text-align: right;\">\n",
              "      <th></th>\n",
              "      <th>count</th>\n",
              "      <th>mean</th>\n",
              "      <th>std</th>\n",
              "      <th>min</th>\n",
              "      <th>25%</th>\n",
              "      <th>50%</th>\n",
              "      <th>75%</th>\n",
              "      <th>max</th>\n",
              "    </tr>\n",
              "  </thead>\n",
              "  <tbody>\n",
              "    <tr>\n",
              "      <th>Open</th>\n",
              "      <td>5107.0</td>\n",
              "      <td>19832.650631</td>\n",
              "      <td>1.273518e+04</td>\n",
              "      <td>2621.889893</td>\n",
              "      <td>9158.364746</td>\n",
              "      <td>17940.160156</td>\n",
              "      <td>28059.199219</td>\n",
              "      <td>6.030379e+04</td>\n",
              "    </tr>\n",
              "    <tr>\n",
              "      <th>High</th>\n",
              "      <td>5107.0</td>\n",
              "      <td>19949.672703</td>\n",
              "      <td>1.278081e+04</td>\n",
              "      <td>2682.590088</td>\n",
              "      <td>9293.689941</td>\n",
              "      <td>18047.859375</td>\n",
              "      <td>28168.855469</td>\n",
              "      <td>6.041232e+04</td>\n",
              "    </tr>\n",
              "    <tr>\n",
              "      <th>Low</th>\n",
              "      <td>5107.0</td>\n",
              "      <td>19676.326920</td>\n",
              "      <td>1.265640e+04</td>\n",
              "      <td>2594.870117</td>\n",
              "      <td>9005.709961</td>\n",
              "      <td>17800.289062</td>\n",
              "      <td>27881.274414</td>\n",
              "      <td>5.994655e+04</td>\n",
              "    </tr>\n",
              "    <tr>\n",
              "      <th>Close</th>\n",
              "      <td>5107.0</td>\n",
              "      <td>19811.523204</td>\n",
              "      <td>1.271863e+04</td>\n",
              "      <td>2600.120117</td>\n",
              "      <td>9091.799805</td>\n",
              "      <td>17933.140625</td>\n",
              "      <td>28051.370117</td>\n",
              "      <td>6.007788e+04</td>\n",
              "    </tr>\n",
              "    <tr>\n",
              "      <th>Adj Close</th>\n",
              "      <td>5107.0</td>\n",
              "      <td>19811.523204</td>\n",
              "      <td>1.271863e+04</td>\n",
              "      <td>2600.120117</td>\n",
              "      <td>9091.799805</td>\n",
              "      <td>17933.140625</td>\n",
              "      <td>28051.370117</td>\n",
              "      <td>6.007788e+04</td>\n",
              "    </tr>\n",
              "    <tr>\n",
              "      <th>Volume</th>\n",
              "      <td>5107.0</td>\n",
              "      <td>77817.994909</td>\n",
              "      <td>1.047398e+06</td>\n",
              "      <td>0.000000</td>\n",
              "      <td>9300.000000</td>\n",
              "      <td>13800.000000</td>\n",
              "      <td>20600.000000</td>\n",
              "      <td>3.181510e+07</td>\n",
              "    </tr>\n",
              "  </tbody>\n",
              "</table>\n",
              "</div>"
            ],
            "text/plain": [
              "            count          mean  ...           75%           max\n",
              "Open       5107.0  19832.650631  ...  28059.199219  6.030379e+04\n",
              "High       5107.0  19949.672703  ...  28168.855469  6.041232e+04\n",
              "Low        5107.0  19676.326920  ...  27881.274414  5.994655e+04\n",
              "Close      5107.0  19811.523204  ...  28051.370117  6.007788e+04\n",
              "Adj Close  5107.0  19811.523204  ...  28051.370117  6.007788e+04\n",
              "Volume     5107.0  77817.994909  ...  20600.000000  3.181510e+07\n",
              "\n",
              "[6 rows x 8 columns]"
            ]
          },
          "metadata": {},
          "execution_count": 8
        }
      ]
    },
    {
      "cell_type": "code",
      "metadata": {
        "id": "7yTgIoJ7lXLF"
      },
      "source": [
        "df.index.rename('key',inplace=True)\n",
        "df['Date'] = df.index"
      ],
      "execution_count": null,
      "outputs": []
    },
    {
      "cell_type": "code",
      "metadata": {
        "id": "WhYEzyezlwXO"
      },
      "source": [
        "df.reset_index(inplace=True)"
      ],
      "execution_count": null,
      "outputs": []
    },
    {
      "cell_type": "markdown",
      "metadata": {
        "id": "q39lTzhrLPuk"
      },
      "source": [
        "## Using only the Closed price"
      ]
    },
    {
      "cell_type": "code",
      "metadata": {
        "colab": {
          "base_uri": "https://localhost:8080/",
          "height": 203
        },
        "id": "Y3CRwF4zLPul",
        "outputId": "607d9d78-f60c-4e14-eef6-0851517d6494"
      },
      "source": [
        "df1 = df[['Date','Close']]\n",
        "#df1 = df1.iloc[::-1]\n",
        "df1.head()"
      ],
      "execution_count": null,
      "outputs": [
        {
          "output_type": "execute_result",
          "data": {
            "text/html": [
              "<div>\n",
              "<style scoped>\n",
              "    .dataframe tbody tr th:only-of-type {\n",
              "        vertical-align: middle;\n",
              "    }\n",
              "\n",
              "    .dataframe tbody tr th {\n",
              "        vertical-align: top;\n",
              "    }\n",
              "\n",
              "    .dataframe thead th {\n",
              "        text-align: right;\n",
              "    }\n",
              "</style>\n",
              "<table border=\"1\" class=\"dataframe\">\n",
              "  <thead>\n",
              "    <tr style=\"text-align: right;\">\n",
              "      <th></th>\n",
              "      <th>Date</th>\n",
              "      <th>Close</th>\n",
              "    </tr>\n",
              "  </thead>\n",
              "  <tbody>\n",
              "    <tr>\n",
              "      <th>0</th>\n",
              "      <td>2001-01-02</td>\n",
              "      <td>4018.879883</td>\n",
              "    </tr>\n",
              "    <tr>\n",
              "      <th>1</th>\n",
              "      <td>2001-01-03</td>\n",
              "      <td>4060.020020</td>\n",
              "    </tr>\n",
              "    <tr>\n",
              "      <th>2</th>\n",
              "      <td>2001-01-04</td>\n",
              "      <td>4115.370117</td>\n",
              "    </tr>\n",
              "    <tr>\n",
              "      <th>3</th>\n",
              "      <td>2001-01-05</td>\n",
              "      <td>4183.729980</td>\n",
              "    </tr>\n",
              "    <tr>\n",
              "      <th>4</th>\n",
              "      <td>2001-01-08</td>\n",
              "      <td>4120.430176</td>\n",
              "    </tr>\n",
              "  </tbody>\n",
              "</table>\n",
              "</div>"
            ],
            "text/plain": [
              "        Date        Close\n",
              "0 2001-01-02  4018.879883\n",
              "1 2001-01-03  4060.020020\n",
              "2 2001-01-04  4115.370117\n",
              "3 2001-01-05  4183.729980\n",
              "4 2001-01-08  4120.430176"
            ]
          },
          "metadata": {},
          "execution_count": 11
        }
      ]
    },
    {
      "cell_type": "code",
      "metadata": {
        "id": "cMazIATDLPum"
      },
      "source": [
        "df1['Date'] = pd.to_datetime(df1['Date'])"
      ],
      "execution_count": null,
      "outputs": []
    },
    {
      "cell_type": "code",
      "metadata": {
        "colab": {
          "base_uri": "https://localhost:8080/"
        },
        "id": "tjmjYUupMY0s",
        "outputId": "0fedbabe-677a-4141-d00e-0f5463a39857"
      },
      "source": [
        "df1.dtypes"
      ],
      "execution_count": null,
      "outputs": [
        {
          "output_type": "execute_result",
          "data": {
            "text/plain": [
              "Date     datetime64[ns]\n",
              "Close           float64\n",
              "dtype: object"
            ]
          },
          "metadata": {},
          "execution_count": 13
        }
      ]
    },
    {
      "cell_type": "code",
      "metadata": {
        "colab": {
          "base_uri": "https://localhost:8080/",
          "height": 234
        },
        "id": "rk5hzifqNLQ0",
        "outputId": "89589e5c-2d11-4184-bf0d-1c99c1a55e50"
      },
      "source": [
        "df1 = df1.set_index(['Date'])\n",
        "df1.head()"
      ],
      "execution_count": null,
      "outputs": [
        {
          "output_type": "execute_result",
          "data": {
            "text/html": [
              "<div>\n",
              "<style scoped>\n",
              "    .dataframe tbody tr th:only-of-type {\n",
              "        vertical-align: middle;\n",
              "    }\n",
              "\n",
              "    .dataframe tbody tr th {\n",
              "        vertical-align: top;\n",
              "    }\n",
              "\n",
              "    .dataframe thead th {\n",
              "        text-align: right;\n",
              "    }\n",
              "</style>\n",
              "<table border=\"1\" class=\"dataframe\">\n",
              "  <thead>\n",
              "    <tr style=\"text-align: right;\">\n",
              "      <th></th>\n",
              "      <th>Close</th>\n",
              "    </tr>\n",
              "    <tr>\n",
              "      <th>Date</th>\n",
              "      <th></th>\n",
              "    </tr>\n",
              "  </thead>\n",
              "  <tbody>\n",
              "    <tr>\n",
              "      <th>2001-01-02</th>\n",
              "      <td>4018.879883</td>\n",
              "    </tr>\n",
              "    <tr>\n",
              "      <th>2001-01-03</th>\n",
              "      <td>4060.020020</td>\n",
              "    </tr>\n",
              "    <tr>\n",
              "      <th>2001-01-04</th>\n",
              "      <td>4115.370117</td>\n",
              "    </tr>\n",
              "    <tr>\n",
              "      <th>2001-01-05</th>\n",
              "      <td>4183.729980</td>\n",
              "    </tr>\n",
              "    <tr>\n",
              "      <th>2001-01-08</th>\n",
              "      <td>4120.430176</td>\n",
              "    </tr>\n",
              "  </tbody>\n",
              "</table>\n",
              "</div>"
            ],
            "text/plain": [
              "                  Close\n",
              "Date                   \n",
              "2001-01-02  4018.879883\n",
              "2001-01-03  4060.020020\n",
              "2001-01-04  4115.370117\n",
              "2001-01-05  4183.729980\n",
              "2001-01-08  4120.430176"
            ]
          },
          "metadata": {},
          "execution_count": 14
        }
      ]
    },
    {
      "cell_type": "markdown",
      "metadata": {
        "id": "Mzq7uwI6LppQ"
      },
      "source": [
        "# Data Visualization"
      ]
    },
    {
      "cell_type": "markdown",
      "metadata": {
        "id": "8SLwZFUFXwMP"
      },
      "source": [
        "## Line plot of Closed Price over the years"
      ]
    },
    {
      "cell_type": "code",
      "metadata": {
        "colab": {
          "base_uri": "https://localhost:8080/",
          "height": 482
        },
        "id": "FrLkIuY4LPun",
        "outputId": "a34a6784-cbdf-45d7-aa78-7038c7d75888"
      },
      "source": [
        "# Line plot of Closed price over the years\n",
        "df1.plot(figsize = (13,8), color = 'm')\n",
        "plt.ylabel('Closing Price')"
      ],
      "execution_count": null,
      "outputs": [
        {
          "output_type": "execute_result",
          "data": {
            "text/plain": [
              "Text(0, 0.5, 'Closing Price')"
            ]
          },
          "metadata": {},
          "execution_count": 15
        },
        {
          "output_type": "display_data",
          "data": {
            "image/png": "[encoded data removed]",
            "text/plain": [
              "<Figure size 936x576 with 1 Axes>"
            ]
          },
          "metadata": {
            "needs_background": "light"
          }
        }
      ]
    },
    {
      "cell_type": "markdown",
      "metadata": {
        "id": "-v92c-6WX2-6"
      },
      "source": [
        "## Distribution of Closing Price"
      ]
    },
    {
      "cell_type": "code",
      "metadata": {
        "colab": {
          "base_uri": "https://localhost:8080/",
          "height": 525
        },
        "id": "dlBwhe50PQSm",
        "outputId": "03d710b6-619d-4314-cf8c-db4a71e23bdd"
      },
      "source": [
        "# Distribution of Closing Price\n",
        "plt.figure(figsize=(13,8))\n",
        "sns.distplot(df1['Close'], color = 'cyan')"
      ],
      "execution_count": null,
      "outputs": [
        {
          "output_type": "execute_result",
          "data": {
            "text/plain": [
              "<matplotlib.axes._subplots.AxesSubplot at 0x7f9767be95d0>"
            ]
          },
          "metadata": {},
          "execution_count": 16
        },
        {
          "output_type": "display_data",
          "data": {
            "image/png": "[encoded data removed]",
            "text/plain": [
              "<Figure size 936x576 with 1 Axes>"
            ]
          },
          "metadata": {
            "needs_background": "light"
          }
        }
      ]
    },
    {
      "cell_type": "markdown",
      "metadata": {
        "id": "4TbmiXPAX9gr"
      },
      "source": [
        "## Lag Plot"
      ]
    },
    {
      "cell_type": "code",
      "metadata": {
        "colab": {
          "base_uri": "https://localhost:8080/",
          "height": 497
        },
        "id": "DshrP2X2PvoJ",
        "outputId": "b63c1a4b-e60f-49ff-c755-f0c2164f213d"
      },
      "source": [
        "# Lag Plot\n",
        "from pandas.plotting import lag_plot\n",
        "plt.figure(figsize=(13,8))\n",
        "lag_plot(df1['Close'])\n",
        "ax = plt.axes()\n",
        "plt.show()"
      ],
      "execution_count": null,
      "outputs": [
        {
          "output_type": "display_data",
          "data": {
            "image/png": "[encoded data removed]",
            "text/plain": [
              "<Figure size 936x576 with 1 Axes>"
            ]
          },
          "metadata": {
            "needs_background": "light"
          }
        }
      ]
    },
    {
      "cell_type": "markdown",
      "metadata": {
        "id": "OGEcmEGeYAec"
      },
      "source": [
        "## ACF and PACF plot"
      ]
    },
    {
      "cell_type": "code",
      "metadata": {
        "colab": {
          "base_uri": "https://localhost:8080/",
          "height": 545
        },
        "id": "AzwUZqCdRIDF",
        "outputId": "6b89287f-2ab8-438a-f9ff-d5a900b42b96"
      },
      "source": [
        "# ACF and PACF plot\n",
        "import statsmodels.graphics.tsaplots as tsa_plots\n",
        "tsa_plots.plot_acf(df1.Close,lags=12)\n",
        "ax = plt.axes()\n",
        "tsa_plots.plot_pacf(df1.Close,lags=12)\n",
        "ax = plt.axes()\n",
        "plt.show()"
      ],
      "execution_count": null,
      "outputs": [
        {
          "output_type": "display_data",
          "data": {
            "image/png": "[encoded data removed]",
            "text/plain": [
              "<Figure size 432x288 with 1 Axes>"
            ]
          },
          "metadata": {
            "needs_background": "light"
          }
        },
        {
          "output_type": "display_data",
          "data": {
            "image/png": "[encoded data removed]",
            "text/plain": [
              "<Figure size 432x288 with 1 Axes>"
            ]
          },
          "metadata": {
            "needs_background": "light"
          }
        }
      ]
    },
    {
      "cell_type": "markdown",
      "metadata": {
        "id": "xuMz0d0AYCpO"
      },
      "source": [
        "## Decomposition of the Close Price"
      ]
    },
    {
      "cell_type": "code",
      "metadata": {
        "colab": {
          "base_uri": "https://localhost:8080/",
          "height": 297
        },
        "id": "u5UQf799SiXy",
        "outputId": "5a5da491-1401-4666-c547-88e336995bce"
      },
      "source": [
        "# Decomposition of the Close price\n",
        "from statsmodels.tsa.seasonal import seasonal_decompose\n",
        "decompose_ts = seasonal_decompose(df1.Close, freq = 12)\n",
        "decompose_ts.plot()\n",
        "plt.show()"
      ],
      "execution_count": null,
      "outputs": [
        {
          "output_type": "display_data",
          "data": {
            "image/png": "[encoded data removed]",
            "text/plain": [
              "<Figure size 432x288 with 4 Axes>"
            ]
          },
          "metadata": {}
        }
      ]
    },
    {
      "cell_type": "markdown",
      "metadata": {
        "id": "2PXGpYxjTBxD"
      },
      "source": [
        "#### Upward trend can be observed"
      ]
    },
    {
      "cell_type": "markdown",
      "metadata": {
        "id": "GdfJJOgZTqej"
      },
      "source": [
        "# Data Pre-processing"
      ]
    },
    {
      "cell_type": "markdown",
      "metadata": {
        "id": "YX3vJKJVTwAQ"
      },
      "source": [
        "## 1. Data Scaling"
      ]
    },
    {
      "cell_type": "code",
      "metadata": {
        "id": "X_CW2oF9LPup"
      },
      "source": [
        "from sklearn.preprocessing import MinMaxScaler\n",
        "scaler = MinMaxScaler(feature_range=(0,1))\n",
        "df1['Close'] = scaler.fit_transform(np.array(df1['Close']).reshape(-1,1))"
      ],
      "execution_count": null,
      "outputs": []
    },
    {
      "cell_type": "code",
      "metadata": {
        "colab": {
          "base_uri": "https://localhost:8080/",
          "height": 234
        },
        "id": "Wn5Uc0NhUBSg",
        "outputId": "913a11a8-3f84-49b2-807b-e57e26f11e0c"
      },
      "source": [
        "df1.head()"
      ],
      "execution_count": null,
      "outputs": [
        {
          "output_type": "execute_result",
          "data": {
            "text/html": [
              "<div>\n",
              "<style scoped>\n",
              "    .dataframe tbody tr th:only-of-type {\n",
              "        vertical-align: middle;\n",
              "    }\n",
              "\n",
              "    .dataframe tbody tr th {\n",
              "        vertical-align: top;\n",
              "    }\n",
              "\n",
              "    .dataframe thead th {\n",
              "        text-align: right;\n",
              "    }\n",
              "</style>\n",
              "<table border=\"1\" class=\"dataframe\">\n",
              "  <thead>\n",
              "    <tr style=\"text-align: right;\">\n",
              "      <th></th>\n",
              "      <th>Close</th>\n",
              "    </tr>\n",
              "    <tr>\n",
              "      <th>Date</th>\n",
              "      <th></th>\n",
              "    </tr>\n",
              "  </thead>\n",
              "  <tbody>\n",
              "    <tr>\n",
              "      <th>2001-01-02</th>\n",
              "      <td>0.024684</td>\n",
              "    </tr>\n",
              "    <tr>\n",
              "      <th>2001-01-03</th>\n",
              "      <td>0.025399</td>\n",
              "    </tr>\n",
              "    <tr>\n",
              "      <th>2001-01-04</th>\n",
              "      <td>0.026362</td>\n",
              "    </tr>\n",
              "    <tr>\n",
              "      <th>2001-01-05</th>\n",
              "      <td>0.027552</td>\n",
              "    </tr>\n",
              "    <tr>\n",
              "      <th>2001-01-08</th>\n",
              "      <td>0.026450</td>\n",
              "    </tr>\n",
              "  </tbody>\n",
              "</table>\n",
              "</div>"
            ],
            "text/plain": [
              "               Close\n",
              "Date                \n",
              "2001-01-02  0.024684\n",
              "2001-01-03  0.025399\n",
              "2001-01-04  0.026362\n",
              "2001-01-05  0.027552\n",
              "2001-01-08  0.026450"
            ]
          },
          "metadata": {},
          "execution_count": 21
        }
      ]
    },
    {
      "cell_type": "markdown",
      "metadata": {
        "id": "KsrN-fcZUHW0"
      },
      "source": [
        "## 2. Data Splitting"
      ]
    },
    {
      "cell_type": "markdown",
      "metadata": {
        "id": "QOt1DZ9mYJzl"
      },
      "source": [
        "### a. Into Train and Test data"
      ]
    },
    {
      "cell_type": "code",
      "metadata": {
        "id": "3gxArwClLPuq"
      },
      "source": [
        "training_size = int(len(df1) * 0.65)      # 65% of length of data\n",
        "test_size = len(df1) - training_size      # 35% of length of data\n",
        "train_data, test_data = df1.iloc[0:training_size, :], df1.iloc[training_size:len(df1), :]"
      ],
      "execution_count": null,
      "outputs": []
    },
    {
      "cell_type": "code",
      "metadata": {
        "colab": {
          "base_uri": "https://localhost:8080/"
        },
        "id": "HFKuy_nKLPuq",
        "outputId": "edfd220f-c2bb-46f7-b3eb-ab2554cfe7d3"
      },
      "source": [
        "training_size,test_size"
      ],
      "execution_count": null,
      "outputs": [
        {
          "output_type": "execute_result",
          "data": {
            "text/plain": [
              "(3319, 1788)"
            ]
          },
          "metadata": {},
          "execution_count": 23
        }
      ]
    },
    {
      "cell_type": "code",
      "metadata": {
        "colab": {
          "base_uri": "https://localhost:8080/",
          "height": 234
        },
        "id": "BPFCVAd4LPuq",
        "outputId": "6a5fb67c-0268-4aab-acfb-1384e4691a0d"
      },
      "source": [
        "train_data[:5]"
      ],
      "execution_count": null,
      "outputs": [
        {
          "output_type": "execute_result",
          "data": {
            "text/html": [
              "<div>\n",
              "<style scoped>\n",
              "    .dataframe tbody tr th:only-of-type {\n",
              "        vertical-align: middle;\n",
              "    }\n",
              "\n",
              "    .dataframe tbody tr th {\n",
              "        vertical-align: top;\n",
              "    }\n",
              "\n",
              "    .dataframe thead th {\n",
              "        text-align: right;\n",
              "    }\n",
              "</style>\n",
              "<table border=\"1\" class=\"dataframe\">\n",
              "  <thead>\n",
              "    <tr style=\"text-align: right;\">\n",
              "      <th></th>\n",
              "      <th>Close</th>\n",
              "    </tr>\n",
              "    <tr>\n",
              "      <th>Date</th>\n",
              "      <th></th>\n",
              "    </tr>\n",
              "  </thead>\n",
              "  <tbody>\n",
              "    <tr>\n",
              "      <th>2001-01-02</th>\n",
              "      <td>0.024684</td>\n",
              "    </tr>\n",
              "    <tr>\n",
              "      <th>2001-01-03</th>\n",
              "      <td>0.025399</td>\n",
              "    </tr>\n",
              "    <tr>\n",
              "      <th>2001-01-04</th>\n",
              "      <td>0.026362</td>\n",
              "    </tr>\n",
              "    <tr>\n",
              "      <th>2001-01-05</th>\n",
              "      <td>0.027552</td>\n",
              "    </tr>\n",
              "    <tr>\n",
              "      <th>2001-01-08</th>\n",
              "      <td>0.026450</td>\n",
              "    </tr>\n",
              "  </tbody>\n",
              "</table>\n",
              "</div>"
            ],
            "text/plain": [
              "               Close\n",
              "Date                \n",
              "2001-01-02  0.024684\n",
              "2001-01-03  0.025399\n",
              "2001-01-04  0.026362\n",
              "2001-01-05  0.027552\n",
              "2001-01-08  0.026450"
            ]
          },
          "metadata": {},
          "execution_count": 24
        }
      ]
    },
    {
      "cell_type": "code",
      "metadata": {
        "id": "-13hA6BUXJzf"
      },
      "source": [
        "train_data = np.array(train_data['Close'])\n",
        "test_data = np.array(test_data['Close'])"
      ],
      "execution_count": null,
      "outputs": []
    },
    {
      "cell_type": "code",
      "metadata": {
        "id": "L03yTPtJXvAc"
      },
      "source": [
        "train_data = train_data.reshape(-1,1)\n",
        "test_data = test_data.reshape(-1,1)"
      ],
      "execution_count": null,
      "outputs": []
    },
    {
      "cell_type": "markdown",
      "metadata": {
        "id": "oEmgrgP7YOv-"
      },
      "source": [
        "### b. Into independent and dependent variables"
      ]
    },
    {
      "cell_type": "code",
      "metadata": {
        "id": "fK2CONXALPur"
      },
      "source": [
        "# convert an array of values into a dataset matrix\n",
        "def create_dataset(dataset, time_step=1):\n",
        "\tdataX, dataY = [], []\n",
        "\tfor i in range(len(dataset)-time_step-1):\n",
        "\t\ta = dataset[i:(i+time_step), 0]    \n",
        "\t\tdataX.append(a)\n",
        "\t\tdataY.append(dataset[i + time_step, 0])\n",
        "\treturn np.array(dataX), np.array(dataY)"
      ],
      "execution_count": null,
      "outputs": []
    },
    {
      "cell_type": "code",
      "metadata": {
        "id": "S3tHJzZqLPur"
      },
      "source": [
        "# reshape into X=t,t+1,t+2,t+3 and Y=t+4\n",
        "time_step = 100\n",
        "X_train, y_train = create_dataset(train_data, time_step)\n",
        "X_test, ytest = create_dataset(test_data, time_step)"
      ],
      "execution_count": null,
      "outputs": []
    },
    {
      "cell_type": "code",
      "metadata": {
        "colab": {
          "base_uri": "https://localhost:8080/"
        },
        "id": "MLByl8sLLPur",
        "outputId": "a742e98c-d928-4b17-fc7a-aa65451f66f4"
      },
      "source": [
        "X_train.shape, y_train.shape"
      ],
      "execution_count": null,
      "outputs": [
        {
          "output_type": "execute_result",
          "data": {
            "text/plain": [
              "((3218, 100), (3218,))"
            ]
          },
          "metadata": {},
          "execution_count": 29
        }
      ]
    },
    {
      "cell_type": "code",
      "metadata": {
        "id": "zu1mtXzoLPus"
      },
      "source": [
        "# reshape input to be [samples, time steps, features] which is required for LSTM\n",
        "X_train =X_train.reshape(X_train.shape[0],X_train.shape[1] , 1)\n",
        "X_test = X_test.reshape(X_test.shape[0],X_test.shape[1] , 1)"
      ],
      "execution_count": null,
      "outputs": []
    },
    {
      "cell_type": "markdown",
      "metadata": {
        "id": "dmlD-NXzYrRk"
      },
      "source": [
        "# Modelling"
      ]
    },
    {
      "cell_type": "markdown",
      "metadata": {
        "id": "1AxCKrxbYLT7"
      },
      "source": [
        "## Creating the Stacked LSTM Model"
      ]
    },
    {
      "cell_type": "code",
      "metadata": {
        "id": "QdNig1o1LPus"
      },
      "source": [
        "### Create the Stacked LSTM model\n",
        "from tensorflow.keras.models import Sequential\n",
        "from tensorflow.keras.layers import Dense , LSTM , Dropout\n",
        "from keras.wrappers.scikit_learn import KerasRegressor"
      ],
      "execution_count": null,
      "outputs": []
    },
    {
      "cell_type": "code",
      "metadata": {
        "id": "t2oWQD6_LPus"
      },
      "source": [
        "model=Sequential()\n",
        "model.add(LSTM(100,return_sequences=True,input_shape=(100,1)))\n",
        "model.add(Dropout(0.1))\n",
        "model.add(LSTM(50,return_sequences=True))\n",
        "model.add(Dropout(0.1))\n",
        "model.add(LSTM(50))\n",
        "model.add(Dropout(0.1))\n",
        "model.add(Dense(1))\n",
        "model.compile(loss='mean_squared_error',optimizer='adam')\n"
      ],
      "execution_count": null,
      "outputs": []
    },
    {
      "cell_type": "code",
      "metadata": {
        "colab": {
          "base_uri": "https://localhost:8080/"
        },
        "id": "jdSp83fpLPut",
        "outputId": "b45883ed-eb35-4d35-d962-5855e5ccc117"
      },
      "source": [
        "model.summary()"
      ],
      "execution_count": null,
      "outputs": [
        {
          "output_type": "stream",
          "name": "stdout",
          "text": [
            "Model: \"sequential\"\n",
            "_________________________________________________________________\n",
            "Layer (type)                 Output Shape              Param #   \n",
            "=================================================================\n",
            "lstm (LSTM)                  (None, 100, 100)          40800     \n",
            "_________________________________________________________________\n",
            "dropout (Dropout)            (None, 100, 100)          0         \n",
            "_________________________________________________________________\n",
            "lstm_1 (LSTM)                (None, 100, 50)           30200     \n",
            "_________________________________________________________________\n",
            "dropout_1 (Dropout)          (None, 100, 50)           0         \n",
            "_________________________________________________________________\n",
            "lstm_2 (LSTM)                (None, 50)                20200     \n",
            "_________________________________________________________________\n",
            "dropout_2 (Dropout)          (None, 50)                0         \n",
            "_________________________________________________________________\n",
            "dense (Dense)                (None, 1)                 51        \n",
            "=================================================================\n",
            "Total params: 91,251\n",
            "Trainable params: 91,251\n",
            "Non-trainable params: 0\n",
            "_________________________________________________________________\n"
          ]
        }
      ]
    },
    {
      "cell_type": "code",
      "metadata": {
        "colab": {
          "base_uri": "https://localhost:8080/"
        },
        "id": "zMtvBoM1LPut",
        "outputId": "e343eef6-ce5a-49bf-c186-e142489fdf51"
      },
      "source": [
        "model.fit(X_train,y_train,validation_data=(X_test,ytest),epochs=50,batch_size=20,verbose=1)"
      ],
      "execution_count": null,
      "outputs": [
        {
          "output_type": "stream",
          "name": "stdout",
          "text": [
            "Epoch 1/50\n",
            "161/161 [==============================] - 24s 90ms/step - loss: 0.0012 - val_loss: 0.0018\n",
            "Epoch 2/50\n",
            "161/161 [==============================] - 13s 82ms/step - loss: 2.7866e-04 - val_loss: 0.0019\n",
            "Epoch 3/50\n",
            "161/161 [==============================] - 13s 82ms/step - loss: 2.2506e-04 - val_loss: 6.1206e-04\n",
            "Epoch 4/50\n",
            "161/161 [==============================] - 13s 82ms/step - loss: 2.2869e-04 - val_loss: 4.8950e-04\n",
            "Epoch 5/50\n",
            "161/161 [==============================] - 13s 82ms/step - loss: 2.2241e-04 - val_loss: 5.8384e-04\n",
            "Epoch 6/50\n",
            "161/161 [==============================] - 13s 82ms/step - loss: 1.7948e-04 - val_loss: 3.5734e-04\n",
            "Epoch 7/50\n",
            "161/161 [==============================] - 13s 82ms/step - loss: 1.7893e-04 - val_loss: 0.0011\n",
            "Epoch 8/50\n",
            "161/161 [==============================] - 13s 82ms/step - loss: 1.6927e-04 - val_loss: 5.6501e-04\n",
            "Epoch 9/50\n",
            "161/161 [==============================] - 13s 82ms/step - loss: 1.3796e-04 - val_loss: 2.3754e-04\n",
            "Epoch 10/50\n",
            "161/161 [==============================] - 13s 82ms/step - loss: 1.6033e-04 - val_loss: 0.0017\n",
            "Epoch 11/50\n",
            "161/161 [==============================] - 13s 83ms/step - loss: 1.5277e-04 - val_loss: 2.3243e-04\n",
            "Epoch 12/50\n",
            "161/161 [==============================] - 13s 82ms/step - loss: 1.3320e-04 - val_loss: 3.7211e-04\n",
            "Epoch 13/50\n",
            "161/161 [==============================] - 13s 82ms/step - loss: 1.2834e-04 - val_loss: 1.9755e-04\n",
            "Epoch 14/50\n",
            "161/161 [==============================] - 13s 82ms/step - loss: 1.2359e-04 - val_loss: 7.1536e-04\n",
            "Epoch 15/50\n",
            "161/161 [==============================] - 13s 82ms/step - loss: 1.2321e-04 - val_loss: 1.6158e-04\n",
            "Epoch 16/50\n",
            "161/161 [==============================] - 13s 82ms/step - loss: 1.1307e-04 - val_loss: 4.7229e-04\n",
            "Epoch 17/50\n",
            "161/161 [==============================] - 13s 81ms/step - loss: 1.1194e-04 - val_loss: 2.0899e-04\n",
            "Epoch 18/50\n",
            "161/161 [==============================] - 13s 82ms/step - loss: 1.1328e-04 - val_loss: 1.9332e-04\n",
            "Epoch 19/50\n",
            "161/161 [==============================] - 13s 82ms/step - loss: 9.8194e-05 - val_loss: 1.5152e-04\n",
            "Epoch 20/50\n",
            "161/161 [==============================] - 13s 82ms/step - loss: 1.2561e-04 - val_loss: 5.8974e-04\n",
            "Epoch 21/50\n",
            "161/161 [==============================] - 13s 82ms/step - loss: 1.0182e-04 - val_loss: 4.5749e-04\n",
            "Epoch 22/50\n",
            "161/161 [==============================] - 13s 82ms/step - loss: 9.1294e-05 - val_loss: 2.9954e-04\n",
            "Epoch 23/50\n",
            "161/161 [==============================] - 13s 82ms/step - loss: 9.1110e-05 - val_loss: 2.3378e-04\n",
            "Epoch 24/50\n",
            "161/161 [==============================] - 13s 82ms/step - loss: 9.0417e-05 - val_loss: 1.3480e-04\n",
            "Epoch 25/50\n",
            "161/161 [==============================] - 13s 82ms/step - loss: 9.5021e-05 - val_loss: 1.5353e-04\n",
            "Epoch 26/50\n",
            "161/161 [==============================] - 13s 82ms/step - loss: 8.2820e-05 - val_loss: 3.5916e-04\n",
            "Epoch 27/50\n",
            "161/161 [==============================] - 13s 82ms/step - loss: 9.7912e-05 - val_loss: 4.9009e-04\n",
            "Epoch 28/50\n",
            "161/161 [==============================] - 13s 82ms/step - loss: 8.7701e-05 - val_loss: 1.0730e-04\n",
            "Epoch 29/50\n",
            "161/161 [==============================] - 13s 82ms/step - loss: 8.5291e-05 - val_loss: 1.3142e-04\n",
            "Epoch 30/50\n",
            "161/161 [==============================] - 13s 82ms/step - loss: 8.0340e-05 - val_loss: 2.5766e-04\n",
            "Epoch 31/50\n",
            "161/161 [==============================] - 13s 82ms/step - loss: 9.1339e-05 - val_loss: 3.5003e-04\n",
            "Epoch 32/50\n",
            "161/161 [==============================] - 13s 82ms/step - loss: 8.1016e-05 - val_loss: 2.2376e-04\n",
            "Epoch 33/50\n",
            "161/161 [==============================] - 13s 82ms/step - loss: 9.7498e-05 - val_loss: 1.0857e-04\n",
            "Epoch 34/50\n",
            "161/161 [==============================] - 13s 82ms/step - loss: 8.5473e-05 - val_loss: 7.7623e-05\n",
            "Epoch 35/50\n",
            "161/161 [==============================] - 13s 82ms/step - loss: 7.9572e-05 - val_loss: 8.1078e-05\n",
            "Epoch 36/50\n",
            "161/161 [==============================] - 13s 82ms/step - loss: 7.4042e-05 - val_loss: 9.1345e-05\n",
            "Epoch 37/50\n",
            "161/161 [==============================] - 13s 82ms/step - loss: 7.7578e-05 - val_loss: 1.9926e-04\n",
            "Epoch 38/50\n",
            "161/161 [==============================] - 13s 82ms/step - loss: 7.2552e-05 - val_loss: 8.5689e-05\n",
            "Epoch 39/50\n",
            "161/161 [==============================] - 13s 82ms/step - loss: 8.4995e-05 - val_loss: 2.6521e-04\n",
            "Epoch 40/50\n",
            "161/161 [==============================] - 13s 82ms/step - loss: 7.7004e-05 - val_loss: 7.5672e-05\n",
            "Epoch 41/50\n",
            "161/161 [==============================] - 13s 82ms/step - loss: 8.1657e-05 - val_loss: 2.1089e-04\n",
            "Epoch 42/50\n",
            "161/161 [==============================] - 13s 82ms/step - loss: 7.3902e-05 - val_loss: 7.6684e-05\n",
            "Epoch 43/50\n",
            "161/161 [==============================] - 13s 82ms/step - loss: 7.5803e-05 - val_loss: 8.5844e-04\n",
            "Epoch 44/50\n",
            "161/161 [==============================] - 13s 82ms/step - loss: 6.9542e-05 - val_loss: 8.9613e-05\n",
            "Epoch 45/50\n",
            "161/161 [==============================] - 13s 82ms/step - loss: 7.1097e-05 - val_loss: 4.5126e-04\n",
            "Epoch 46/50\n",
            "161/161 [==============================] - 13s 82ms/step - loss: 7.1503e-05 - val_loss: 1.1424e-04\n",
            "Epoch 47/50\n",
            "161/161 [==============================] - 13s 82ms/step - loss: 6.8709e-05 - val_loss: 1.5832e-04\n",
            "Epoch 48/50\n",
            "161/161 [==============================] - 13s 82ms/step - loss: 7.6403e-05 - val_loss: 8.4298e-05\n",
            "Epoch 49/50\n",
            "161/161 [==============================] - 13s 82ms/step - loss: 7.7647e-05 - val_loss: 6.4268e-04\n",
            "Epoch 50/50\n",
            "161/161 [==============================] - 13s 82ms/step - loss: 7.1283e-05 - val_loss: 7.1783e-05\n"
          ]
        },
        {
          "output_type": "execute_result",
          "data": {
            "text/plain": [
              "<keras.callbacks.History at 0x7f97100e2410>"
            ]
          },
          "metadata": {},
          "execution_count": 34
        }
      ]
    },
    {
      "cell_type": "markdown",
      "metadata": {
        "id": "lCbrm-v6YQJm"
      },
      "source": [
        "## Making Predictions"
      ]
    },
    {
      "cell_type": "code",
      "metadata": {
        "id": "mVTtbwaSLPuu"
      },
      "source": [
        "# Making Predictions\n",
        "train_predict=model.predict(X_train)\n",
        "test_predict=model.predict(X_test)"
      ],
      "execution_count": null,
      "outputs": []
    },
    {
      "cell_type": "code",
      "metadata": {
        "id": "t5n6O98zLPuu"
      },
      "source": [
        "# Transformback to original form\n",
        "train_predict=scaler.inverse_transform(train_predict)\n",
        "test_predict=scaler.inverse_transform(test_predict)"
      ],
      "execution_count": null,
      "outputs": []
    },
    {
      "cell_type": "markdown",
      "metadata": {
        "id": "1Fln1_tYYTc4"
      },
      "source": [
        "## RMSE Score"
      ]
    },
    {
      "cell_type": "code",
      "metadata": {
        "colab": {
          "base_uri": "https://localhost:8080/"
        },
        "id": "4PtGTyfqLPuv",
        "outputId": "15a07475-aa7b-4ec3-f1fc-d01dadaff72d"
      },
      "source": [
        "# Calculating RMSE performance metrics\n",
        "import math\n",
        "from sklearn.metrics import mean_squared_error\n",
        "math.sqrt(mean_squared_error(y_train,train_predict))"
      ],
      "execution_count": null,
      "outputs": [
        {
          "output_type": "execute_result",
          "data": {
            "text/plain": [
              "13956.300152153823"
            ]
          },
          "metadata": {},
          "execution_count": 37
        }
      ]
    },
    {
      "cell_type": "code",
      "metadata": {
        "colab": {
          "base_uri": "https://localhost:8080/"
        },
        "id": "TM1b4se0LPuv",
        "outputId": "93e0d943-0d35-4181-a74b-24ff6c7ba012"
      },
      "source": [
        "### Test Data RMSE\n",
        "math.sqrt(mean_squared_error(ytest,test_predict))"
      ],
      "execution_count": null,
      "outputs": [
        {
          "output_type": "execute_result",
          "data": {
            "text/plain": [
              "35783.785089164914"
            ]
          },
          "metadata": {},
          "execution_count": 38
        }
      ]
    },
    {
      "cell_type": "markdown",
      "metadata": {
        "id": "r2BEojpIYX_j"
      },
      "source": [
        "# Experimental Analysis"
      ]
    },
    {
      "cell_type": "markdown",
      "metadata": {
        "id": "KBfIiNQ-Yb4s"
      },
      "source": [
        "## Plotting predictions on testing data"
      ]
    },
    {
      "cell_type": "code",
      "metadata": {
        "colab": {
          "base_uri": "https://localhost:8080/",
          "height": 483
        },
        "id": "yv7jJSJkLPuw",
        "outputId": "66b2be20-96e3-4bef-b912-bf60378d4ce2"
      },
      "source": [
        "# Plotting \n",
        "# shift train predictions for plotting\n",
        "look_back=100\n",
        "trainPredictPlot = np.empty_like(df1)\n",
        "trainPredictPlot[:, :] = np.nan\n",
        "trainPredictPlot[look_back:len(train_predict)+look_back, :] = train_predict\n",
        "# shift test predictions for plotting\n",
        "testPredictPlot = np.empty_like(df1)\n",
        "testPredictPlot[:, :] = np.nan\n",
        "testPredictPlot[len(train_predict)+(look_back*2)+1:len(df1)-1, :] = test_predict\n",
        "# plot baseline and predictions\n",
        "plt.figure(figsize = (13,8))\n",
        "sns.set_style('whitegrid')\n",
        "plt.plot(scaler.inverse_transform(df1) , label = 'Actual Price')\n",
        "# plt.plot(trainPredictPlot)\n",
        "plt.plot(testPredictPlot, label = 'Predicted Testing Price')\n",
        "plt.legend()\n",
        "plt.show()"
      ],
      "execution_count": null,
      "outputs": [
        {
          "output_type": "display_data",
          "data": {
            "image/png": "[encoded data removed]",
            "text/plain": [
              "<Figure size 936x576 with 1 Axes>"
            ]
          },
          "metadata": {
            "needs_background": "light"
          }
        }
      ]
    },
    {
      "cell_type": "code",
      "metadata": {
        "colab": {
          "base_uri": "https://localhost:8080/"
        },
        "id": "5wAOavGbLPuw",
        "outputId": "b218b1d8-de0e-4a78-bf2e-548e524f417b"
      },
      "source": [
        "len(test_data)"
      ],
      "execution_count": null,
      "outputs": [
        {
          "output_type": "execute_result",
          "data": {
            "text/plain": [
              "1788"
            ]
          },
          "metadata": {},
          "execution_count": 40
        }
      ]
    },
    {
      "cell_type": "code",
      "metadata": {
        "colab": {
          "base_uri": "https://localhost:8080/"
        },
        "id": "PITiwvSlLPux",
        "outputId": "96776ab9-0f0e-4cda-c2b4-0bd2b1ac9e5f"
      },
      "source": [
        "x_input=test_data[1688:].reshape(1,-1)\n",
        "x_input.shape"
      ],
      "execution_count": null,
      "outputs": [
        {
          "output_type": "execute_result",
          "data": {
            "text/plain": [
              "(1, 100)"
            ]
          },
          "metadata": {},
          "execution_count": 45
        }
      ]
    },
    {
      "cell_type": "code",
      "metadata": {
        "id": "0B_Aau8mLPux"
      },
      "source": [
        "temp_input=list(x_input)\n",
        "temp_input=temp_input[0].tolist()"
      ],
      "execution_count": null,
      "outputs": []
    },
    {
      "cell_type": "code",
      "metadata": {
        "colab": {
          "base_uri": "https://localhost:8080/"
        },
        "id": "zQxjzu_dLPux",
        "outputId": "9b8d6352-3aa1-4a9e-dd25-48f96244a390"
      },
      "source": [
        "temp_input[:5]"
      ],
      "execution_count": null,
      "outputs": [
        {
          "output_type": "execute_result",
          "data": {
            "text/plain": [
              "[0.8018872279486503,\n",
              " 0.8026135958669475,\n",
              " 0.8173702548837462,\n",
              " 0.8280282497178553,\n",
              " 0.8229708587178549]"
            ]
          },
          "metadata": {},
          "execution_count": 47
        }
      ]
    },
    {
      "cell_type": "markdown",
      "metadata": {
        "id": "anEpbYUbYuaF"
      },
      "source": [
        "## Forecasting the Close Price for next 30 days"
      ]
    },
    {
      "cell_type": "code",
      "metadata": {
        "id": "oR-wbNxLLPuy"
      },
      "source": [
        "# Taking previous 100 close prices as input and predicting 101st as output\n",
        "# then taking 1st to 101st close prices as input and predicting 102nd as output and so on...\n",
        "\n",
        "from numpy import array\n",
        "\n",
        "lst_output=[]\n",
        "n_steps=100\n",
        "i=0\n",
        "while(i<30):\n",
        "    \n",
        "    if(len(temp_input)>100):\n",
        "        #print(temp_input)\n",
        "        x_input=np.array(temp_input[1:])\n",
        "        #print(\"{} day input {}\".format(i,x_input))\n",
        "        x_input=x_input.reshape(1,-1)\n",
        "        x_input = x_input.reshape((1, n_steps, 1))\n",
        "        #print(x_input)\n",
        "        yhat = model.predict(x_input, verbose=0)\n",
        "        #print(\"{} day output {}\".format(i,yhat))\n",
        "        temp_input.extend(yhat[0].tolist())\n",
        "        temp_input=temp_input[1:]\n",
        "        #print(temp_input)\n",
        "        lst_output.extend(yhat.tolist())\n",
        "        i=i+1\n",
        "    else:\n",
        "        x_input = x_input.reshape((1, n_steps,1))\n",
        "        yhat = model.predict(x_input, verbose=0)\n",
        "        #print(yhat[0])\n",
        "        temp_input.extend(yhat[0].tolist())\n",
        "        #print(len(temp_input))\n",
        "        lst_output.extend(yhat.tolist())\n",
        "        i=i+1\n",
        "    \n",
        "\n",
        "#print(lst_output)"
      ],
      "execution_count": null,
      "outputs": []
    },
    {
      "cell_type": "code",
      "metadata": {
        "id": "vlSVr2WzLPuy"
      },
      "source": [
        "day_new=np.arange(1,101)\n",
        "day_pred=np.arange(101,131)"
      ],
      "execution_count": null,
      "outputs": []
    },
    {
      "cell_type": "code",
      "metadata": {
        "colab": {
          "base_uri": "https://localhost:8080/"
        },
        "id": "Sdf2ywW31xtz",
        "outputId": "db02db6f-a8bf-41d3-f8cc-ea4dd9d44ba3"
      },
      "source": [
        "len(df1)"
      ],
      "execution_count": null,
      "outputs": [
        {
          "output_type": "execute_result",
          "data": {
            "text/plain": [
              "5107"
            ]
          },
          "metadata": {},
          "execution_count": 50
        }
      ]
    },
    {
      "cell_type": "markdown",
      "metadata": {
        "id": "6x54DZIzZgiB"
      },
      "source": [
        "## Forecast for next 30 days wrt previous 100 days Close Price"
      ]
    },
    {
      "cell_type": "code",
      "metadata": {
        "colab": {
          "base_uri": "https://localhost:8080/",
          "height": 516
        },
        "id": "EgixF7K7LPu0",
        "outputId": "7896ad16-dd8f-487c-8a33-a00e88a097d3"
      },
      "source": [
        "plt.figure(figsize = (13,8))\n",
        "plt.plot(day_new,scaler.inverse_transform(df1[-100:]), color = 'm' , label = 'Actual Price for past T-100 days')\n",
        "plt.plot(day_pred,scaler.inverse_transform(lst_output), color = 'red', label = 'Forecasted Price for T+30 days ')\n",
        "plt.title('Forecasting for 30 days')\n",
        "plt.legend()"
      ],
      "execution_count": null,
      "outputs": [
        {
          "output_type": "execute_result",
          "data": {
            "text/plain": [
              "<matplotlib.legend.Legend at 0x7f969a498150>"
            ]
          },
          "metadata": {},
          "execution_count": 55
        },
        {
          "output_type": "display_data",
          "data": {
            "image/png": "[encoded data removed]",
            "text/plain": [
              "<Figure size 936x576 with 1 Axes>"
            ]
          },
          "metadata": {}
        }
      ]
    },
    {
      "cell_type": "code",
      "metadata": {
        "id": "YufLosWYKw4o"
      },
      "source": [
        "from datetime import datetime\n",
        "import datetime as dt\n",
        "lst = list(df1.index)\n",
        "numdays = 30\n",
        "date_list = [lst[-1] + dt.timedelta(days=x) for x in range(numdays)]"
      ],
      "execution_count": null,
      "outputs": []
    },
    {
      "cell_type": "code",
      "metadata": {
        "colab": {
          "base_uri": "https://localhost:8080/",
          "height": 203
        },
        "id": "TBZqIGGfGvSb",
        "outputId": "82bdf749-ee06-49e6-cc4c-6861189d7e51"
      },
      "source": [
        "forecast = pd.DataFrame(scaler.inverse_transform(lst_output) , columns = ['Close'] , index = date_list)\n",
        "forecast.head()"
      ],
      "execution_count": null,
      "outputs": [
        {
          "output_type": "execute_result",
          "data": {
            "text/html": [
              "<div>\n",
              "<style scoped>\n",
              "    .dataframe tbody tr th:only-of-type {\n",
              "        vertical-align: middle;\n",
              "    }\n",
              "\n",
              "    .dataframe tbody tr th {\n",
              "        vertical-align: top;\n",
              "    }\n",
              "\n",
              "    .dataframe thead th {\n",
              "        text-align: right;\n",
              "    }\n",
              "</style>\n",
              "<table border=\"1\" class=\"dataframe\">\n",
              "  <thead>\n",
              "    <tr style=\"text-align: right;\">\n",
              "      <th></th>\n",
              "      <th>Close</th>\n",
              "    </tr>\n",
              "  </thead>\n",
              "  <tbody>\n",
              "    <tr>\n",
              "      <th>2021-10-04</th>\n",
              "      <td>58625.910128</td>\n",
              "    </tr>\n",
              "    <tr>\n",
              "      <th>2021-10-05</th>\n",
              "      <td>58105.060832</td>\n",
              "    </tr>\n",
              "    <tr>\n",
              "      <th>2021-10-06</th>\n",
              "      <td>57272.252164</td>\n",
              "    </tr>\n",
              "    <tr>\n",
              "      <th>2021-10-07</th>\n",
              "      <td>56334.900894</td>\n",
              "    </tr>\n",
              "    <tr>\n",
              "      <th>2021-10-08</th>\n",
              "      <td>55419.455094</td>\n",
              "    </tr>\n",
              "  </tbody>\n",
              "</table>\n",
              "</div>"
            ],
            "text/plain": [
              "                   Close\n",
              "2021-10-04  58625.910128\n",
              "2021-10-05  58105.060832\n",
              "2021-10-06  57272.252164\n",
              "2021-10-07  56334.900894\n",
              "2021-10-08  55419.455094"
            ]
          },
          "metadata": {},
          "execution_count": 53
        }
      ]
    },
    {
      "cell_type": "code",
      "metadata": {
        "id": "uTjPoNCCXfcF"
      },
      "source": [
        "df['Date'] = pd.to_datetime(df['Date'])\n",
        "df.set_index(['Date'], inplace=True)"
      ],
      "execution_count": null,
      "outputs": []
    },
    {
      "cell_type": "markdown",
      "metadata": {
        "id": "eQTsi8ZBaMa2"
      },
      "source": [
        "## Line plot of Close Price over the years with forecasted value for next 30 days"
      ]
    },
    {
      "cell_type": "code",
      "metadata": {
        "id": "bWqsTubBLPu0",
        "colab": {
          "base_uri": "https://localhost:8080/",
          "height": 517
        },
        "outputId": "36ab349a-409b-44f6-ec05-712fdb437654"
      },
      "source": [
        "plt.figure(figsize=(13,8))\n",
        "_, ax = plt.subplots(figsize= (13,8))\n",
        "ax.plot(df['Close'], label = 'Closing Price', color = 'cyan')\n",
        "ax.plot(forecast['Close'], label = 'Forecasted Price', color = 'red')\n",
        "plt.legend()"
      ],
      "execution_count": null,
      "outputs": [
        {
          "output_type": "execute_result",
          "data": {
            "text/plain": [
              "<matplotlib.legend.Legend at 0x7f96708ddfd0>"
            ]
          },
          "metadata": {},
          "execution_count": 56
        },
        {
          "output_type": "display_data",
          "data": {
            "text/plain": [
              "<Figure size 936x576 with 0 Axes>"
            ]
          },
          "metadata": {}
        },
        {
          "output_type": "display_data",
          "data": {
            "image/png": "[encoded data removed]",
            "text/plain": [
              "<Figure size 936x576 with 1 Axes>"
            ]
          },
          "metadata": {}
        }
      ]
    }
  ]
}
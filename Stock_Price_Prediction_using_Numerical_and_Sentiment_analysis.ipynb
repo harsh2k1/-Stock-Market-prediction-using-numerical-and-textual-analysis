{
  "nbformat": 4,
  "nbformat_minor": 0,
  "metadata": {
    "colab": {
      "name": "Stock Price Prediction using Numerical and Sentiment analysis",
      "provenance": [],
      "collapsed_sections": [],
      "authorship_tag": "ABX9TyME4hsftGecK+11NPMbc01L",
      "include_colab_link": true
    },
    "kernelspec": {
      "name": "python3",
      "display_name": "Python 3"
    },
    "language_info": {
      "name": "python"
    }
  },
  "cells": [
    {
      "cell_type": "markdown",
      "metadata": {
        "id": "view-in-github",
        "colab_type": "text"
      },
      "source": [
        "<a href=\"https://colab.research.google.com/github/harsh2k1/-Stock-Market-prediction-using-numerical-and-textual-analysis/blob/main/Stock_Price_Prediction_using_Numerical_and_Sentiment_analysis.ipynb\" target=\"_parent\"><img src=\"https://colab.research.google.com/assets/colab-badge.svg\" alt=\"Open In Colab\"/></a>"
      ]
    },
    {
      "cell_type": "markdown",
      "metadata": {
        "id": "amtStMDvMF86"
      },
      "source": [
        "# Name: Harshpreet Singh\n",
        "# Task-1 GRIP-October 2021\n",
        "# Stock Market prediction using numerical and textual analysis \n",
        "# Level: Advanced"
      ]
    },
    {
      "cell_type": "markdown",
      "metadata": {
        "id": "-w6axxr_MICg"
      },
      "source": [
        "# Importing libraries"
      ]
    },
    {
      "cell_type": "code",
      "metadata": {
        "id": "Y1IXGGM0vuTa"
      },
      "source": [
        "#!pip install yfinance"
      ],
      "execution_count": 39,
      "outputs": []
    },
    {
      "cell_type": "code",
      "metadata": {
        "id": "pxSXvhR07WmG"
      },
      "source": [
        "#!pip install pmdarima"
      ],
      "execution_count": 40,
      "outputs": []
    },
    {
      "cell_type": "code",
      "metadata": {
        "colab": {
          "base_uri": "https://localhost:8080/"
        },
        "id": "odYGzRNVvcSY",
        "outputId": "a72540c7-0fce-4453-9a47-e08b7e5f2238"
      },
      "source": [
        "import yfinance as yf\n",
        "import pandas as pd\n",
        "import numpy as np\n",
        "import warnings\n",
        "warnings.filterwarnings('ignore')\n",
        "import matplotlib.pyplot as plt\n",
        "import seaborn as sns\n",
        "from pandas.plotting import lag_plot\n",
        "import statsmodels.graphics.tsaplots as tsa_plots\n",
        "from statsmodels.tsa.seasonal import seasonal_decompose\n",
        "from statsmodels.tsa.stattools import adfuller\n",
        "from statsmodels.tsa.arima_model import ARIMA\n",
        "import nltk\n",
        "import re\n",
        "from nltk.corpus import stopwords\n",
        "nltk.download('stopwords')\n",
        "nltk.download('vader_lexicon')\n",
        "from textblob import TextBlob\n",
        "from nltk.sentiment.vader import SentimentIntensityAnalyzer\n",
        "from nltk.stem.porter import PorterStemmer\n",
        "from sklearn.preprocessing import MinMaxScaler\n",
        "from sklearn.metrics import mean_squared_error, mean_absolute_error, r2_score\n",
        "from sklearn.model_selection import train_test_split\n",
        "from sklearn.ensemble import RandomForestRegressor, AdaBoostRegressor\n",
        "import xgboost \n",
        "import lightgbm\n",
        "from pmdarima import auto_arima"
      ],
      "execution_count": 41,
      "outputs": [
        {
          "output_type": "stream",
          "name": "stdout",
          "text": [
            "[nltk_data] Downloading package stopwords to /root/nltk_data...\n",
            "[nltk_data]   Package stopwords is already up-to-date!\n",
            "[nltk_data] Downloading package vader_lexicon to /root/nltk_data...\n",
            "[nltk_data]   Package vader_lexicon is already up-to-date!\n"
          ]
        }
      ]
    },
    {
      "cell_type": "markdown",
      "metadata": {
        "id": "eNHu6nDCMLEa"
      },
      "source": [
        "# Getting data"
      ]
    },
    {
      "cell_type": "markdown",
      "metadata": {
        "id": "t2IWpRg4MUne"
      },
      "source": [
        "## 1. Latest bsesn data"
      ]
    },
    {
      "cell_type": "code",
      "metadata": {
        "colab": {
          "base_uri": "https://localhost:8080/"
        },
        "id": "XdhU2FXLvsaY",
        "outputId": "15c25dfc-ab8a-4dc8-8c95-3ff8fec8b5a5"
      },
      "source": [
        "bse_data = yf.download('^BSESN', start='2001-01-01', end='2021-10-05')"
      ],
      "execution_count": 42,
      "outputs": [
        {
          "output_type": "stream",
          "name": "stdout",
          "text": [
            "\r[*********************100%***********************]  1 of 1 completed\n"
          ]
        }
      ]
    },
    {
      "cell_type": "code",
      "metadata": {
        "colab": {
          "base_uri": "https://localhost:8080/",
          "height": 447
        },
        "id": "Xt6xn_4LKdbx",
        "outputId": "a191a914-cf54-4e8c-bd0d-f2ea202fdecb"
      },
      "source": [
        "bse_data"
      ],
      "execution_count": 43,
      "outputs": [
        {
          "output_type": "execute_result",
          "data": {
            "text/html": [
              "<div>\n",
              "<style scoped>\n",
              "    .dataframe tbody tr th:only-of-type {\n",
              "        vertical-align: middle;\n",
              "    }\n",
              "\n",
              "    .dataframe tbody tr th {\n",
              "        vertical-align: top;\n",
              "    }\n",
              "\n",
              "    .dataframe thead th {\n",
              "        text-align: right;\n",
              "    }\n",
              "</style>\n",
              "<table border=\"1\" class=\"dataframe\">\n",
              "  <thead>\n",
              "    <tr style=\"text-align: right;\">\n",
              "      <th></th>\n",
              "      <th>Open</th>\n",
              "      <th>High</th>\n",
              "      <th>Low</th>\n",
              "      <th>Close</th>\n",
              "      <th>Adj Close</th>\n",
              "      <th>Volume</th>\n",
              "    </tr>\n",
              "    <tr>\n",
              "      <th>Date</th>\n",
              "      <th></th>\n",
              "      <th></th>\n",
              "      <th></th>\n",
              "      <th></th>\n",
              "      <th></th>\n",
              "      <th></th>\n",
              "    </tr>\n",
              "  </thead>\n",
              "  <tbody>\n",
              "    <tr>\n",
              "      <th>2001-01-02</th>\n",
              "      <td>3953.219971</td>\n",
              "      <td>4028.570068</td>\n",
              "      <td>3929.370117</td>\n",
              "      <td>4018.879883</td>\n",
              "      <td>4018.879883</td>\n",
              "      <td>0</td>\n",
              "    </tr>\n",
              "    <tr>\n",
              "      <th>2001-01-03</th>\n",
              "      <td>3977.580078</td>\n",
              "      <td>4067.659912</td>\n",
              "      <td>3977.580078</td>\n",
              "      <td>4060.020020</td>\n",
              "      <td>4060.020020</td>\n",
              "      <td>0</td>\n",
              "    </tr>\n",
              "    <tr>\n",
              "      <th>2001-01-04</th>\n",
              "      <td>4180.970215</td>\n",
              "      <td>4180.970215</td>\n",
              "      <td>4109.549805</td>\n",
              "      <td>4115.370117</td>\n",
              "      <td>4115.370117</td>\n",
              "      <td>0</td>\n",
              "    </tr>\n",
              "    <tr>\n",
              "      <th>2001-01-05</th>\n",
              "      <td>4116.339844</td>\n",
              "      <td>4195.009766</td>\n",
              "      <td>4115.350098</td>\n",
              "      <td>4183.729980</td>\n",
              "      <td>4183.729980</td>\n",
              "      <td>0</td>\n",
              "    </tr>\n",
              "    <tr>\n",
              "      <th>2001-01-08</th>\n",
              "      <td>4164.759766</td>\n",
              "      <td>4206.720215</td>\n",
              "      <td>4101.529785</td>\n",
              "      <td>4120.430176</td>\n",
              "      <td>4120.430176</td>\n",
              "      <td>0</td>\n",
              "    </tr>\n",
              "    <tr>\n",
              "      <th>...</th>\n",
              "      <td>...</td>\n",
              "      <td>...</td>\n",
              "      <td>...</td>\n",
              "      <td>...</td>\n",
              "      <td>...</td>\n",
              "      <td>...</td>\n",
              "    </tr>\n",
              "    <tr>\n",
              "      <th>2021-09-28</th>\n",
              "      <td>60285.890625</td>\n",
              "      <td>60288.441406</td>\n",
              "      <td>59045.531250</td>\n",
              "      <td>59667.601562</td>\n",
              "      <td>59667.601562</td>\n",
              "      <td>21100</td>\n",
              "    </tr>\n",
              "    <tr>\n",
              "      <th>2021-09-29</th>\n",
              "      <td>59296.539062</td>\n",
              "      <td>59678.660156</td>\n",
              "      <td>59111.410156</td>\n",
              "      <td>59413.269531</td>\n",
              "      <td>59413.269531</td>\n",
              "      <td>16100</td>\n",
              "    </tr>\n",
              "    <tr>\n",
              "      <th>2021-09-30</th>\n",
              "      <td>59549.570312</td>\n",
              "      <td>59557.238281</td>\n",
              "      <td>59019.281250</td>\n",
              "      <td>59126.359375</td>\n",
              "      <td>59126.359375</td>\n",
              "      <td>8900</td>\n",
              "    </tr>\n",
              "    <tr>\n",
              "      <th>2021-10-01</th>\n",
              "      <td>58889.769531</td>\n",
              "      <td>58890.078125</td>\n",
              "      <td>58551.140625</td>\n",
              "      <td>58765.578125</td>\n",
              "      <td>58765.578125</td>\n",
              "      <td>10200</td>\n",
              "    </tr>\n",
              "    <tr>\n",
              "      <th>2021-10-04</th>\n",
              "      <td>59143.000000</td>\n",
              "      <td>59548.820312</td>\n",
              "      <td>58952.109375</td>\n",
              "      <td>59299.320312</td>\n",
              "      <td>59299.320312</td>\n",
              "      <td>10000</td>\n",
              "    </tr>\n",
              "  </tbody>\n",
              "</table>\n",
              "<p>5107 rows × 6 columns</p>\n",
              "</div>"
            ],
            "text/plain": [
              "                    Open          High  ...     Adj Close  Volume\n",
              "Date                                    ...                      \n",
              "2001-01-02   3953.219971   4028.570068  ...   4018.879883       0\n",
              "2001-01-03   3977.580078   4067.659912  ...   4060.020020       0\n",
              "2001-01-04   4180.970215   4180.970215  ...   4115.370117       0\n",
              "2001-01-05   4116.339844   4195.009766  ...   4183.729980       0\n",
              "2001-01-08   4164.759766   4206.720215  ...   4120.430176       0\n",
              "...                  ...           ...  ...           ...     ...\n",
              "2021-09-28  60285.890625  60288.441406  ...  59667.601562   21100\n",
              "2021-09-29  59296.539062  59678.660156  ...  59413.269531   16100\n",
              "2021-09-30  59549.570312  59557.238281  ...  59126.359375    8900\n",
              "2021-10-01  58889.769531  58890.078125  ...  58765.578125   10200\n",
              "2021-10-04  59143.000000  59548.820312  ...  59299.320312   10000\n",
              "\n",
              "[5107 rows x 6 columns]"
            ]
          },
          "metadata": {},
          "execution_count": 43
        }
      ]
    },
    {
      "cell_type": "code",
      "metadata": {
        "colab": {
          "base_uri": "https://localhost:8080/"
        },
        "id": "tjq98pxnK8hw",
        "outputId": "95cf5ab2-fbe8-47a9-cd47-691e35a3a603"
      },
      "source": [
        "bse_data.isnull().sum()"
      ],
      "execution_count": 44,
      "outputs": [
        {
          "output_type": "execute_result",
          "data": {
            "text/plain": [
              "Open         0\n",
              "High         0\n",
              "Low          0\n",
              "Close        0\n",
              "Adj Close    0\n",
              "Volume       0\n",
              "dtype: int64"
            ]
          },
          "metadata": {},
          "execution_count": 44
        }
      ]
    },
    {
      "cell_type": "code",
      "metadata": {
        "colab": {
          "base_uri": "https://localhost:8080/"
        },
        "id": "wCuBG2mzRFIx",
        "outputId": "461ef27a-cbb3-4da4-9582-d0049c2810c5"
      },
      "source": [
        "bse_data.dtypes"
      ],
      "execution_count": 45,
      "outputs": [
        {
          "output_type": "execute_result",
          "data": {
            "text/plain": [
              "Open         float64\n",
              "High         float64\n",
              "Low          float64\n",
              "Close        float64\n",
              "Adj Close    float64\n",
              "Volume         int64\n",
              "dtype: object"
            ]
          },
          "metadata": {},
          "execution_count": 45
        }
      ]
    },
    {
      "cell_type": "markdown",
      "metadata": {
        "id": "bt4EYiWgMZJ0"
      },
      "source": [
        "## 2. News headlines data"
      ]
    },
    {
      "cell_type": "code",
      "metadata": {
        "colab": {
          "base_uri": "https://localhost:8080/"
        },
        "id": "58khcm2KMetL",
        "outputId": "a6b3a32c-cf1c-46d4-a3bb-dc779d260ea8"
      },
      "source": [
        "from google.colab import drive\n",
        "drive.mount('/content/drive')"
      ],
      "execution_count": 46,
      "outputs": [
        {
          "output_type": "stream",
          "name": "stdout",
          "text": [
            "Drive already mounted at /content/drive; to attempt to forcibly remount, call drive.mount(\"/content/drive\", force_remount=True).\n"
          ]
        }
      ]
    },
    {
      "cell_type": "code",
      "metadata": {
        "colab": {
          "base_uri": "https://localhost:8080/",
          "height": 203
        },
        "id": "4dGsI0wjK8bH",
        "outputId": "a669605c-6b5f-4832-9af0-6f888e718183"
      },
      "source": [
        "path = '/content/drive/My Drive/india-news-headlines.csv'\n",
        "news_df = pd.read_csv(path)\n",
        "news_df.tail()"
      ],
      "execution_count": 47,
      "outputs": [
        {
          "output_type": "execute_result",
          "data": {
            "text/html": [
              "<div>\n",
              "<style scoped>\n",
              "    .dataframe tbody tr th:only-of-type {\n",
              "        vertical-align: middle;\n",
              "    }\n",
              "\n",
              "    .dataframe tbody tr th {\n",
              "        vertical-align: top;\n",
              "    }\n",
              "\n",
              "    .dataframe thead th {\n",
              "        text-align: right;\n",
              "    }\n",
              "</style>\n",
              "<table border=\"1\" class=\"dataframe\">\n",
              "  <thead>\n",
              "    <tr style=\"text-align: right;\">\n",
              "      <th></th>\n",
              "      <th>publish_date</th>\n",
              "      <th>headline_category</th>\n",
              "      <th>headline_text</th>\n",
              "    </tr>\n",
              "  </thead>\n",
              "  <tbody>\n",
              "    <tr>\n",
              "      <th>3424062</th>\n",
              "      <td>20201231</td>\n",
              "      <td>city.jodhpur</td>\n",
              "      <td>Covid-19: Despite dip in cases; Rajasthan amon...</td>\n",
              "    </tr>\n",
              "    <tr>\n",
              "      <th>3424063</th>\n",
              "      <td>20201231</td>\n",
              "      <td>city.udaipur</td>\n",
              "      <td>Covid-19: Despite dip in cases; Rajasthan amon...</td>\n",
              "    </tr>\n",
              "    <tr>\n",
              "      <th>3424064</th>\n",
              "      <td>20201231</td>\n",
              "      <td>city.ajmer</td>\n",
              "      <td>Covid-19: Despite dip in cases; Rajasthan amon...</td>\n",
              "    </tr>\n",
              "    <tr>\n",
              "      <th>3424065</th>\n",
              "      <td>20201231</td>\n",
              "      <td>removed</td>\n",
              "      <td>Govt extends deadline for use of FASTag till F...</td>\n",
              "    </tr>\n",
              "    <tr>\n",
              "      <th>3424066</th>\n",
              "      <td>20201231</td>\n",
              "      <td>entertainment.bengali.movies.news</td>\n",
              "      <td>Celebs plan to party safely and responsibly on...</td>\n",
              "    </tr>\n",
              "  </tbody>\n",
              "</table>\n",
              "</div>"
            ],
            "text/plain": [
              "         publish_date  ...                                      headline_text\n",
              "3424062      20201231  ...  Covid-19: Despite dip in cases; Rajasthan amon...\n",
              "3424063      20201231  ...  Covid-19: Despite dip in cases; Rajasthan amon...\n",
              "3424064      20201231  ...  Covid-19: Despite dip in cases; Rajasthan amon...\n",
              "3424065      20201231  ...  Govt extends deadline for use of FASTag till F...\n",
              "3424066      20201231  ...  Celebs plan to party safely and responsibly on...\n",
              "\n",
              "[5 rows x 3 columns]"
            ]
          },
          "metadata": {},
          "execution_count": 47
        }
      ]
    },
    {
      "cell_type": "code",
      "metadata": {
        "colab": {
          "base_uri": "https://localhost:8080/"
        },
        "id": "AVYEtmA3Q5re",
        "outputId": "0c5f52ae-9425-4508-e58b-458a9ad34c32"
      },
      "source": [
        "news_df.isnull().sum()"
      ],
      "execution_count": 48,
      "outputs": [
        {
          "output_type": "execute_result",
          "data": {
            "text/plain": [
              "publish_date         0\n",
              "headline_category    0\n",
              "headline_text        0\n",
              "dtype: int64"
            ]
          },
          "metadata": {},
          "execution_count": 48
        }
      ]
    },
    {
      "cell_type": "markdown",
      "metadata": {
        "id": "OskvVZZbQN1O"
      },
      "source": [
        "# Feature extraction and Data Cleaning"
      ]
    },
    {
      "cell_type": "markdown",
      "metadata": {
        "id": "1kPtQpBQQSCP"
      },
      "source": [
        "## Extracting Closing Price from bse data"
      ]
    },
    {
      "cell_type": "code",
      "metadata": {
        "colab": {
          "base_uri": "https://localhost:8080/",
          "height": 234
        },
        "id": "8DU5TlcCK8YA",
        "outputId": "7a144ece-5232-4529-c4d7-0e5f3c1fed19"
      },
      "source": [
        "stock_df = pd.DataFrame(bse_data['Close'] , index = bse_data.index , columns = ['Close'])\n",
        "stock_df.head()"
      ],
      "execution_count": 49,
      "outputs": [
        {
          "output_type": "execute_result",
          "data": {
            "text/html": [
              "<div>\n",
              "<style scoped>\n",
              "    .dataframe tbody tr th:only-of-type {\n",
              "        vertical-align: middle;\n",
              "    }\n",
              "\n",
              "    .dataframe tbody tr th {\n",
              "        vertical-align: top;\n",
              "    }\n",
              "\n",
              "    .dataframe thead th {\n",
              "        text-align: right;\n",
              "    }\n",
              "</style>\n",
              "<table border=\"1\" class=\"dataframe\">\n",
              "  <thead>\n",
              "    <tr style=\"text-align: right;\">\n",
              "      <th></th>\n",
              "      <th>Close</th>\n",
              "    </tr>\n",
              "    <tr>\n",
              "      <th>Date</th>\n",
              "      <th></th>\n",
              "    </tr>\n",
              "  </thead>\n",
              "  <tbody>\n",
              "    <tr>\n",
              "      <th>2001-01-02</th>\n",
              "      <td>4018.879883</td>\n",
              "    </tr>\n",
              "    <tr>\n",
              "      <th>2001-01-03</th>\n",
              "      <td>4060.020020</td>\n",
              "    </tr>\n",
              "    <tr>\n",
              "      <th>2001-01-04</th>\n",
              "      <td>4115.370117</td>\n",
              "    </tr>\n",
              "    <tr>\n",
              "      <th>2001-01-05</th>\n",
              "      <td>4183.729980</td>\n",
              "    </tr>\n",
              "    <tr>\n",
              "      <th>2001-01-08</th>\n",
              "      <td>4120.430176</td>\n",
              "    </tr>\n",
              "  </tbody>\n",
              "</table>\n",
              "</div>"
            ],
            "text/plain": [
              "                  Close\n",
              "Date                   \n",
              "2001-01-02  4018.879883\n",
              "2001-01-03  4060.020020\n",
              "2001-01-04  4115.370117\n",
              "2001-01-05  4183.729980\n",
              "2001-01-08  4120.430176"
            ]
          },
          "metadata": {},
          "execution_count": 49
        }
      ]
    },
    {
      "cell_type": "markdown",
      "metadata": {
        "id": "k6P0I2BSQ-Dy"
      },
      "source": [
        "## Converting dates to datetime datatype"
      ]
    },
    {
      "cell_type": "code",
      "metadata": {
        "colab": {
          "base_uri": "https://localhost:8080/",
          "height": 203
        },
        "id": "bogZkItYK8VN",
        "outputId": "8c020564-f569-44c4-900a-ea39b31eda22"
      },
      "source": [
        "news_df['publish_date'] = pd.to_datetime(news_df['publish_date'],format= '%Y%m%d')\n",
        "news_df[:5]"
      ],
      "execution_count": 50,
      "outputs": [
        {
          "output_type": "execute_result",
          "data": {
            "text/html": [
              "<div>\n",
              "<style scoped>\n",
              "    .dataframe tbody tr th:only-of-type {\n",
              "        vertical-align: middle;\n",
              "    }\n",
              "\n",
              "    .dataframe tbody tr th {\n",
              "        vertical-align: top;\n",
              "    }\n",
              "\n",
              "    .dataframe thead th {\n",
              "        text-align: right;\n",
              "    }\n",
              "</style>\n",
              "<table border=\"1\" class=\"dataframe\">\n",
              "  <thead>\n",
              "    <tr style=\"text-align: right;\">\n",
              "      <th></th>\n",
              "      <th>publish_date</th>\n",
              "      <th>headline_category</th>\n",
              "      <th>headline_text</th>\n",
              "    </tr>\n",
              "  </thead>\n",
              "  <tbody>\n",
              "    <tr>\n",
              "      <th>0</th>\n",
              "      <td>2001-01-02</td>\n",
              "      <td>unknown</td>\n",
              "      <td>Status quo will not be disturbed at Ayodhya; s...</td>\n",
              "    </tr>\n",
              "    <tr>\n",
              "      <th>1</th>\n",
              "      <td>2001-01-02</td>\n",
              "      <td>unknown</td>\n",
              "      <td>Fissures in Hurriyat over Pak visit</td>\n",
              "    </tr>\n",
              "    <tr>\n",
              "      <th>2</th>\n",
              "      <td>2001-01-02</td>\n",
              "      <td>unknown</td>\n",
              "      <td>America's unwanted heading for India?</td>\n",
              "    </tr>\n",
              "    <tr>\n",
              "      <th>3</th>\n",
              "      <td>2001-01-02</td>\n",
              "      <td>unknown</td>\n",
              "      <td>For bigwigs; it is destination Goa</td>\n",
              "    </tr>\n",
              "    <tr>\n",
              "      <th>4</th>\n",
              "      <td>2001-01-02</td>\n",
              "      <td>unknown</td>\n",
              "      <td>Extra buses to clear tourist traffic</td>\n",
              "    </tr>\n",
              "  </tbody>\n",
              "</table>\n",
              "</div>"
            ],
            "text/plain": [
              "  publish_date  ...                                      headline_text\n",
              "0   2001-01-02  ...  Status quo will not be disturbed at Ayodhya; s...\n",
              "1   2001-01-02  ...                Fissures in Hurriyat over Pak visit\n",
              "2   2001-01-02  ...              America's unwanted heading for India?\n",
              "3   2001-01-02  ...                 For bigwigs; it is destination Goa\n",
              "4   2001-01-02  ...               Extra buses to clear tourist traffic\n",
              "\n",
              "[5 rows x 3 columns]"
            ]
          },
          "metadata": {},
          "execution_count": 50
        }
      ]
    },
    {
      "cell_type": "code",
      "metadata": {
        "colab": {
          "base_uri": "https://localhost:8080/"
        },
        "id": "IvNwMDisK8SO",
        "outputId": "415321ef-3411-4b35-b32c-42b23356498d"
      },
      "source": [
        "news_df.dtypes"
      ],
      "execution_count": 51,
      "outputs": [
        {
          "output_type": "execute_result",
          "data": {
            "text/plain": [
              "publish_date         datetime64[ns]\n",
              "headline_category            object\n",
              "headline_text                object\n",
              "dtype: object"
            ]
          },
          "metadata": {},
          "execution_count": 51
        }
      ]
    },
    {
      "cell_type": "code",
      "metadata": {
        "colab": {
          "base_uri": "https://localhost:8080/",
          "height": 234
        },
        "id": "j3YcmlzzK8PC",
        "outputId": "27c2683e-5c66-4c02-c11f-1ad1bddc1331"
      },
      "source": [
        "# Setting index as publish date\n",
        "news_df.drop(['headline_category'], axis = 1, inplace = True)\n",
        "news_df.set_index('publish_date', inplace = True)\n",
        "news_df.head()"
      ],
      "execution_count": 52,
      "outputs": [
        {
          "output_type": "execute_result",
          "data": {
            "text/html": [
              "<div>\n",
              "<style scoped>\n",
              "    .dataframe tbody tr th:only-of-type {\n",
              "        vertical-align: middle;\n",
              "    }\n",
              "\n",
              "    .dataframe tbody tr th {\n",
              "        vertical-align: top;\n",
              "    }\n",
              "\n",
              "    .dataframe thead th {\n",
              "        text-align: right;\n",
              "    }\n",
              "</style>\n",
              "<table border=\"1\" class=\"dataframe\">\n",
              "  <thead>\n",
              "    <tr style=\"text-align: right;\">\n",
              "      <th></th>\n",
              "      <th>headline_text</th>\n",
              "    </tr>\n",
              "    <tr>\n",
              "      <th>publish_date</th>\n",
              "      <th></th>\n",
              "    </tr>\n",
              "  </thead>\n",
              "  <tbody>\n",
              "    <tr>\n",
              "      <th>2001-01-02</th>\n",
              "      <td>Status quo will not be disturbed at Ayodhya; s...</td>\n",
              "    </tr>\n",
              "    <tr>\n",
              "      <th>2001-01-02</th>\n",
              "      <td>Fissures in Hurriyat over Pak visit</td>\n",
              "    </tr>\n",
              "    <tr>\n",
              "      <th>2001-01-02</th>\n",
              "      <td>America's unwanted heading for India?</td>\n",
              "    </tr>\n",
              "    <tr>\n",
              "      <th>2001-01-02</th>\n",
              "      <td>For bigwigs; it is destination Goa</td>\n",
              "    </tr>\n",
              "    <tr>\n",
              "      <th>2001-01-02</th>\n",
              "      <td>Extra buses to clear tourist traffic</td>\n",
              "    </tr>\n",
              "  </tbody>\n",
              "</table>\n",
              "</div>"
            ],
            "text/plain": [
              "                                                  headline_text\n",
              "publish_date                                                   \n",
              "2001-01-02    Status quo will not be disturbed at Ayodhya; s...\n",
              "2001-01-02                  Fissures in Hurriyat over Pak visit\n",
              "2001-01-02                America's unwanted heading for India?\n",
              "2001-01-02                   For bigwigs; it is destination Goa\n",
              "2001-01-02                 Extra buses to clear tourist traffic"
            ]
          },
          "metadata": {},
          "execution_count": 52
        }
      ]
    },
    {
      "cell_type": "code",
      "metadata": {
        "id": "wQ0B0CwWK8JG"
      },
      "source": [
        "news_df.index = news_df.index.rename('Date')"
      ],
      "execution_count": 53,
      "outputs": []
    },
    {
      "cell_type": "code",
      "metadata": {
        "colab": {
          "base_uri": "https://localhost:8080/",
          "height": 418
        },
        "id": "BOlOl6dprrfC",
        "outputId": "b1efe002-2a5c-46af-f7d2-4251e272fd07"
      },
      "source": [
        "# Grouping the headlines for each day\n",
        "news_df['date'] = news_df.index\n",
        "news_df['headline_text'] = news_df.groupby(['date']).transform(lambda x : ' '.join(x)) \n",
        "news_df = news_df.drop_duplicates() \n",
        "# news_df.reset_index(inplace = True, drop = True)\n",
        "news_df.set_index('date', inplace = True)\n",
        "news_df[:11]"
      ],
      "execution_count": 54,
      "outputs": [
        {
          "output_type": "execute_result",
          "data": {
            "text/html": [
              "<div>\n",
              "<style scoped>\n",
              "    .dataframe tbody tr th:only-of-type {\n",
              "        vertical-align: middle;\n",
              "    }\n",
              "\n",
              "    .dataframe tbody tr th {\n",
              "        vertical-align: top;\n",
              "    }\n",
              "\n",
              "    .dataframe thead th {\n",
              "        text-align: right;\n",
              "    }\n",
              "</style>\n",
              "<table border=\"1\" class=\"dataframe\">\n",
              "  <thead>\n",
              "    <tr style=\"text-align: right;\">\n",
              "      <th></th>\n",
              "      <th>headline_text</th>\n",
              "    </tr>\n",
              "    <tr>\n",
              "      <th>date</th>\n",
              "      <th></th>\n",
              "    </tr>\n",
              "  </thead>\n",
              "  <tbody>\n",
              "    <tr>\n",
              "      <th>2001-01-02</th>\n",
              "      <td>Status quo will not be disturbed at Ayodhya; s...</td>\n",
              "    </tr>\n",
              "    <tr>\n",
              "      <th>2001-01-03</th>\n",
              "      <td>Powerless north India gropes in the dark Think...</td>\n",
              "    </tr>\n",
              "    <tr>\n",
              "      <th>2001-01-04</th>\n",
              "      <td>The string that pulled Stephen Hawking to Indi...</td>\n",
              "    </tr>\n",
              "    <tr>\n",
              "      <th>2001-01-05</th>\n",
              "      <td>Light combat craft takes India into club class...</td>\n",
              "    </tr>\n",
              "    <tr>\n",
              "      <th>2001-01-06</th>\n",
              "      <td>Light combat craft takes India into club class...</td>\n",
              "    </tr>\n",
              "    <tr>\n",
              "      <th>2001-01-07</th>\n",
              "      <td>Muslim body rules out talks on Ayodhya Bajrang...</td>\n",
              "    </tr>\n",
              "    <tr>\n",
              "      <th>2001-01-08</th>\n",
              "      <td>Sangh Parivar; Babri panel up the ante Frontru...</td>\n",
              "    </tr>\n",
              "    <tr>\n",
              "      <th>2001-01-09</th>\n",
              "      <td>Financier Bharat Shah held for alleged links w...</td>\n",
              "    </tr>\n",
              "    <tr>\n",
              "      <th>2001-01-10</th>\n",
              "      <td>Fend for yourselves; Pande tells doctors Burea...</td>\n",
              "    </tr>\n",
              "    <tr>\n",
              "      <th>2001-01-23</th>\n",
              "      <td>Sonia takes on the Hindutva brigade Congress h...</td>\n",
              "    </tr>\n",
              "    <tr>\n",
              "      <th>2001-01-24</th>\n",
              "      <td>Govt extends J&amp;K ceasefire by a month Peace hi...</td>\n",
              "    </tr>\n",
              "  </tbody>\n",
              "</table>\n",
              "</div>"
            ],
            "text/plain": [
              "                                                headline_text\n",
              "date                                                         \n",
              "2001-01-02  Status quo will not be disturbed at Ayodhya; s...\n",
              "2001-01-03  Powerless north India gropes in the dark Think...\n",
              "2001-01-04  The string that pulled Stephen Hawking to Indi...\n",
              "2001-01-05  Light combat craft takes India into club class...\n",
              "2001-01-06  Light combat craft takes India into club class...\n",
              "2001-01-07  Muslim body rules out talks on Ayodhya Bajrang...\n",
              "2001-01-08  Sangh Parivar; Babri panel up the ante Frontru...\n",
              "2001-01-09  Financier Bharat Shah held for alleged links w...\n",
              "2001-01-10  Fend for yourselves; Pande tells doctors Burea...\n",
              "2001-01-23  Sonia takes on the Hindutva brigade Congress h...\n",
              "2001-01-24  Govt extends J&K ceasefire by a month Peace hi..."
            ]
          },
          "metadata": {},
          "execution_count": 54
        }
      ]
    },
    {
      "cell_type": "code",
      "metadata": {
        "colab": {
          "base_uri": "https://localhost:8080/"
        },
        "id": "CejbhsDSQmca",
        "outputId": "412e58c1-adf0-40f3-878c-18eb30fd7c5a"
      },
      "source": [
        "import string\n",
        "from nltk.stem import WordNetLemmatizer\n",
        "from nltk.tokenize import word_tokenize\n",
        "import nltk\n",
        "nltk.download('punkt')\n",
        "nltk.download('wordnet')"
      ],
      "execution_count": 55,
      "outputs": [
        {
          "output_type": "stream",
          "name": "stdout",
          "text": [
            "[nltk_data] Downloading package punkt to /root/nltk_data...\n",
            "[nltk_data]   Package punkt is already up-to-date!\n",
            "[nltk_data] Downloading package wordnet to /root/nltk_data...\n",
            "[nltk_data]   Package wordnet is already up-to-date!\n"
          ]
        },
        {
          "output_type": "execute_result",
          "data": {
            "text/plain": [
              "True"
            ]
          },
          "metadata": {},
          "execution_count": 55
        }
      ]
    },
    {
      "cell_type": "code",
      "metadata": {
        "id": "be5s_L9NqOqa"
      },
      "source": [
        "# Cleaning text\n",
        "stopwords_english =  stopwords.words('english')\n",
        "lemmatizer = WordNetLemmatizer()\n",
        "\n",
        "def clean_data(text):\n",
        "    text_clean = []\n",
        "    text_tokens = word_tokenize(text)\n",
        "    #text_tokens = tokenizer.tokenize(text)    \n",
        "    for word in text_tokens:\n",
        "        if (word not in stopwords_english and # remove stopwords\n",
        "                word not in string.punctuation): # remove punctuation\n",
        "            #tweets_clean.append(word)\n",
        "            stem_word = lemmatizer.lemmatize(word) # stemming word\n",
        "            text_clean.append(stem_word)\n",
        "    \n",
        "    list_to_str = ' '.join([str(ele) for ele in text_clean])\n",
        "    return list_to_str.lower()"
      ],
      "execution_count": 56,
      "outputs": []
    },
    {
      "cell_type": "code",
      "metadata": {
        "colab": {
          "base_uri": "https://localhost:8080/",
          "height": 418
        },
        "id": "kOnzkTNvQ0dk",
        "outputId": "f10214e2-535a-4fa6-f05f-577d9b48637b"
      },
      "source": [
        "news_df['headline_text'] = news_df['headline_text'].apply(clean_data)\n",
        "news_df[:11]"
      ],
      "execution_count": 57,
      "outputs": [
        {
          "output_type": "execute_result",
          "data": {
            "text/html": [
              "<div>\n",
              "<style scoped>\n",
              "    .dataframe tbody tr th:only-of-type {\n",
              "        vertical-align: middle;\n",
              "    }\n",
              "\n",
              "    .dataframe tbody tr th {\n",
              "        vertical-align: top;\n",
              "    }\n",
              "\n",
              "    .dataframe thead th {\n",
              "        text-align: right;\n",
              "    }\n",
              "</style>\n",
              "<table border=\"1\" class=\"dataframe\">\n",
              "  <thead>\n",
              "    <tr style=\"text-align: right;\">\n",
              "      <th></th>\n",
              "      <th>headline_text</th>\n",
              "    </tr>\n",
              "    <tr>\n",
              "      <th>date</th>\n",
              "      <th></th>\n",
              "    </tr>\n",
              "  </thead>\n",
              "  <tbody>\n",
              "    <tr>\n",
              "      <th>2001-01-02</th>\n",
              "      <td>status quo disturbed ayodhya say vajpayee fiss...</td>\n",
              "    </tr>\n",
              "    <tr>\n",
              "      <th>2001-01-03</th>\n",
              "      <td>powerless north india grope dark think laxman ...</td>\n",
              "    </tr>\n",
              "    <tr>\n",
              "      <th>2001-01-04</th>\n",
              "      <td>the string pulled stephen hawking india vajpay...</td>\n",
              "    </tr>\n",
              "    <tr>\n",
              "      <th>2001-01-05</th>\n",
              "      <td>light combat craft take india club class hawki...</td>\n",
              "    </tr>\n",
              "    <tr>\n",
              "      <th>2001-01-06</th>\n",
              "      <td>light combat craft take india club class hawki...</td>\n",
              "    </tr>\n",
              "    <tr>\n",
              "      <th>2001-01-07</th>\n",
              "      <td>muslim body rule talk ayodhya bajrang dal blow...</td>\n",
              "    </tr>\n",
              "    <tr>\n",
              "      <th>2001-01-08</th>\n",
              "      <td>sangh parivar babri panel ante frontrunner key...</td>\n",
              "    </tr>\n",
              "    <tr>\n",
              "      <th>2001-01-09</th>\n",
              "      <td>financier bharat shah held alleged link chotta...</td>\n",
              "    </tr>\n",
              "    <tr>\n",
              "      <th>2001-01-10</th>\n",
              "      <td>fend pande tell doctor bureaucracy undermining...</td>\n",
              "    </tr>\n",
              "    <tr>\n",
              "      <th>2001-01-23</th>\n",
              "      <td>sonia take hindutva brigade congress hope soar...</td>\n",
              "    </tr>\n",
              "    <tr>\n",
              "      <th>2001-01-24</th>\n",
              "      <td>govt extends j k ceasefire month peace hinge h...</td>\n",
              "    </tr>\n",
              "  </tbody>\n",
              "</table>\n",
              "</div>"
            ],
            "text/plain": [
              "                                                headline_text\n",
              "date                                                         \n",
              "2001-01-02  status quo disturbed ayodhya say vajpayee fiss...\n",
              "2001-01-03  powerless north india grope dark think laxman ...\n",
              "2001-01-04  the string pulled stephen hawking india vajpay...\n",
              "2001-01-05  light combat craft take india club class hawki...\n",
              "2001-01-06  light combat craft take india club class hawki...\n",
              "2001-01-07  muslim body rule talk ayodhya bajrang dal blow...\n",
              "2001-01-08  sangh parivar babri panel ante frontrunner key...\n",
              "2001-01-09  financier bharat shah held alleged link chotta...\n",
              "2001-01-10  fend pande tell doctor bureaucracy undermining...\n",
              "2001-01-23  sonia take hindutva brigade congress hope soar...\n",
              "2001-01-24  govt extends j k ceasefire month peace hinge h..."
            ]
          },
          "metadata": {},
          "execution_count": 57
        }
      ]
    },
    {
      "cell_type": "markdown",
      "metadata": {
        "id": "QlsnfNxqTOzg"
      },
      "source": [
        "# Data Visualization of BSE data"
      ]
    },
    {
      "cell_type": "markdown",
      "metadata": {
        "id": "9RYjeDtETVi0"
      },
      "source": [
        "## 1. Line plot of Closing price"
      ]
    },
    {
      "cell_type": "code",
      "metadata": {
        "colab": {
          "base_uri": "https://localhost:8080/",
          "height": 596
        },
        "id": "NVfNFMByK8DU",
        "outputId": "b13ff1c6-ad13-4c4d-bba2-ada999f28500"
      },
      "source": [
        "stock_df['Close'].plot(figsize = (20,10), color = 'cyan')\n",
        "plt.title('Line plot for Closed price')"
      ],
      "execution_count": 58,
      "outputs": [
        {
          "output_type": "execute_result",
          "data": {
            "text/plain": [
              "Text(0.5, 1.0, 'Line plot for Closed price')"
            ]
          },
          "metadata": {},
          "execution_count": 58
        },
        {
          "output_type": "display_data",
          "data": {
            "image/png": "[encoded data removed]",
            "text/plain": [
              "<Figure size 1440x720 with 1 Axes>"
            ]
          },
          "metadata": {
            "needs_background": "light"
          }
        }
      ]
    },
    {
      "cell_type": "markdown",
      "metadata": {
        "id": "4uni_PV6UrfU"
      },
      "source": [
        "## 2. Distribution of Closing Price"
      ]
    },
    {
      "cell_type": "code",
      "metadata": {
        "id": "3HKeFnFgK76n",
        "colab": {
          "base_uri": "https://localhost:8080/",
          "height": 530
        },
        "outputId": "68e75d56-00d7-4c7f-bc45-6bc5ca7e229b"
      },
      "source": [
        "plt.figure(figsize = (13,8))\n",
        "sns.distplot(stock_df['Close'], color = 'orange')\n",
        "plt.title('Distribution plot for Closing price')"
      ],
      "execution_count": 59,
      "outputs": [
        {
          "output_type": "execute_result",
          "data": {
            "text/plain": [
              "Text(0.5, 1.0, 'Distribution plot for Closing price')"
            ]
          },
          "metadata": {},
          "execution_count": 59
        },
        {
          "output_type": "display_data",
          "data": {
            "image/png": "[encoded data removed]",
            "text/plain": [
              "<Figure size 936x576 with 1 Axes>"
            ]
          },
          "metadata": {
            "needs_background": "light"
          }
        }
      ]
    },
    {
      "cell_type": "markdown",
      "metadata": {
        "id": "dsT3oH-CVBFd"
      },
      "source": [
        "## 3. Lag plot"
      ]
    },
    {
      "cell_type": "code",
      "metadata": {
        "colab": {
          "base_uri": "https://localhost:8080/",
          "height": 513
        },
        "id": "Bzbx4A9dK73K",
        "outputId": "a18864ee-683b-4202-9d50-ae0f153f4d43"
      },
      "source": [
        "plt.figure(figsize=(13,8))\n",
        "lag_plot(stock_df.iloc[4800:5000])\n",
        "ax = plt.axes()\n",
        "plt.title('Lag plot of Closing price for a few records')\n",
        "plt.show()"
      ],
      "execution_count": 60,
      "outputs": [
        {
          "output_type": "display_data",
          "data": {
            "image/png": "[encoded data removed]",
            "text/plain": [
              "<Figure size 936x576 with 1 Axes>"
            ]
          },
          "metadata": {
            "needs_background": "light"
          }
        }
      ]
    },
    {
      "cell_type": "markdown",
      "metadata": {
        "id": "dP4V5sf9VqsM"
      },
      "source": [
        "## 4. ACF and PACF plots"
      ]
    },
    {
      "cell_type": "code",
      "metadata": {
        "id": "PNAPb6vrK70T",
        "colab": {
          "base_uri": "https://localhost:8080/",
          "height": 281
        },
        "outputId": "0e46e990-62a3-4a04-8084-2b4be4e92bb6"
      },
      "source": [
        "tsa_plots.plot_acf(stock_df.Close,lags=12)\n",
        "plt.show()"
      ],
      "execution_count": 61,
      "outputs": [
        {
          "output_type": "display_data",
          "data": {
            "image/png": "[encoded data removed]",
            "text/plain": [
              "<Figure size 432x288 with 1 Axes>"
            ]
          },
          "metadata": {
            "needs_background": "light"
          }
        }
      ]
    },
    {
      "cell_type": "code",
      "metadata": {
        "colab": {
          "base_uri": "https://localhost:8080/",
          "height": 281
        },
        "id": "QciGD40KK7xl",
        "outputId": "3ff42118-3428-41e2-8c59-4103621cbe2d"
      },
      "source": [
        "tsa_plots.plot_pacf(stock_df.Close,lags=12)\n",
        "plt.show()"
      ],
      "execution_count": 62,
      "outputs": [
        {
          "output_type": "display_data",
          "data": {
            "image/png": "[encoded data removed]",
            "text/plain": [
              "<Figure size 432x288 with 1 Axes>"
            ]
          },
          "metadata": {
            "needs_background": "light"
          }
        }
      ]
    },
    {
      "cell_type": "markdown",
      "metadata": {
        "id": "C1NrvjjAWL84"
      },
      "source": [
        "## 5. Decomposition of Closing price"
      ]
    },
    {
      "cell_type": "code",
      "metadata": {
        "colab": {
          "base_uri": "https://localhost:8080/",
          "height": 296
        },
        "id": "W_1xz3NjK7vB",
        "outputId": "786a4c88-3633-4d98-820e-ae38c192e3b3"
      },
      "source": [
        "decompose_ts = seasonal_decompose(temp.iloc[-1000:-1],period = 12)\n",
        "decompose_ts.plot()\n",
        "plt.show()"
      ],
      "execution_count": 63,
      "outputs": [
        {
          "output_type": "display_data",
          "data": {
            "image/png": "[encoded data removed]",
            "text/plain": [
              "<Figure size 432x288 with 4 Axes>"
            ]
          },
          "metadata": {
            "needs_background": "light"
          }
        }
      ]
    },
    {
      "cell_type": "markdown",
      "metadata": {
        "id": "oO6FfEI6Wt4_"
      },
      "source": [
        "#### Multiplicative trend and Additive Seasonality can be observed"
      ]
    },
    {
      "cell_type": "markdown",
      "metadata": {
        "id": "rOeJ2_Z0Xsnc"
      },
      "source": [
        "## 6. Plotting Moving Average"
      ]
    },
    {
      "cell_type": "code",
      "metadata": {
        "colab": {
          "base_uri": "https://localhost:8080/",
          "height": 490
        },
        "id": "wziaged4K7sN",
        "outputId": "7fc94395-dc37-4d9a-cf49-5481d43f171f"
      },
      "source": [
        "close = stock_df['Close'][-1000:]\n",
        "ma = close.rolling(window = 50).mean()\n",
        "\n",
        "plt.figure(figsize=(13,8))\n",
        "close.plot(color = 'cyan', label = 'Close')\n",
        "ma.plot(color = 'r', label = 'Rolling Mean')\n",
        "plt.legend()"
      ],
      "execution_count": 64,
      "outputs": [
        {
          "output_type": "execute_result",
          "data": {
            "text/plain": [
              "<matplotlib.legend.Legend at 0x7fd77e2d5150>"
            ]
          },
          "metadata": {},
          "execution_count": 64
        },
        {
          "output_type": "display_data",
          "data": {
            "image/png": "[encoded data removed]",
            "text/plain": [
              "<Figure size 936x576 with 1 Axes>"
            ]
          },
          "metadata": {
            "needs_background": "light"
          }
        }
      ]
    },
    {
      "cell_type": "markdown",
      "metadata": {
        "id": "-Hh8vDFGYYGC"
      },
      "source": [
        "## 7. Returns"
      ]
    },
    {
      "cell_type": "code",
      "metadata": {
        "colab": {
          "base_uri": "https://localhost:8080/",
          "height": 506
        },
        "id": "gRIwG8UKK7pl",
        "outputId": "db41b329-c452-4bb9-869a-98a7881abb15"
      },
      "source": [
        "returns = close / close.shift(1) - 1\n",
        "\n",
        "plt.figure(figsize = (13,8))\n",
        "returns.plot(label='Return', color = 'pink')\n",
        "plt.title(\"Returns\")"
      ],
      "execution_count": 65,
      "outputs": [
        {
          "output_type": "execute_result",
          "data": {
            "text/plain": [
              "Text(0.5, 1.0, 'Returns')"
            ]
          },
          "metadata": {},
          "execution_count": 65
        },
        {
          "output_type": "display_data",
          "data": {
            "image/png": "[encoded data removed]",
            "text/plain": [
              "<Figure size 936x576 with 1 Axes>"
            ]
          },
          "metadata": {
            "needs_background": "light"
          }
        }
      ]
    },
    {
      "cell_type": "code",
      "metadata": {
        "colab": {
          "base_uri": "https://localhost:8080/",
          "height": 530
        },
        "id": "bsdZidUuK7mu",
        "outputId": "89c948f8-4027-4cdd-cada-abe5148460ad"
      },
      "source": [
        "close = pd.DataFrame(stock_df['Close'], index = stock_df.index , columns = ['Close'])\n",
        "returns = close / close.shift(1) - 1\n",
        "close['returns'] = returns\n",
        "temp = close.sort_values(['returns'], ascending=[False])\n",
        "plt.figure(figsize = (20,8))\n",
        "sns.barplot(x = temp[:11].index , y = temp[:11].returns)\n",
        "plt.title('Top 10 days with highest returns')"
      ],
      "execution_count": 66,
      "outputs": [
        {
          "output_type": "execute_result",
          "data": {
            "text/plain": [
              "Text(0.5, 1.0, 'Top 10 days with highest returns')"
            ]
          },
          "metadata": {},
          "execution_count": 66
        },
        {
          "output_type": "display_data",
          "data": {
            "image/png": "[encoded data removed]",
            "text/plain": [
              "<Figure size 1440x576 with 1 Axes>"
            ]
          },
          "metadata": {
            "needs_background": "light"
          }
        }
      ]
    },
    {
      "cell_type": "markdown",
      "metadata": {
        "id": "BDrRQqjHcT4F"
      },
      "source": [
        "#### Highest returns on 18-05-2009"
      ]
    },
    {
      "cell_type": "markdown",
      "metadata": {
        "id": "sMRQnXAMpi-M"
      },
      "source": [
        "# Data Pre-Processing"
      ]
    },
    {
      "cell_type": "markdown",
      "metadata": {
        "id": "nnbLpNcEppI2"
      },
      "source": [
        "## 1. BSE data"
      ]
    },
    {
      "cell_type": "markdown",
      "metadata": {
        "id": "x1XgkSeeprdg"
      },
      "source": [
        "### Data Scaling"
      ]
    },
    {
      "cell_type": "code",
      "metadata": {
        "id": "eFd_xLGBK7QE"
      },
      "source": [
        "scaler = MinMaxScaler(feature_range=(0,1))"
      ],
      "execution_count": 67,
      "outputs": []
    },
    {
      "cell_type": "code",
      "metadata": {
        "colab": {
          "base_uri": "https://localhost:8080/",
          "height": 265
        },
        "id": "_MrbDyLvK7Nd",
        "outputId": "7d160f7f-aa1f-45d5-cceb-9580846dd318"
      },
      "source": [
        "stock_df['Close'] = scaler.fit_transform(np.array(stock_df['Close']).reshape(-1,1))\n",
        "stock_df[:6]"
      ],
      "execution_count": 68,
      "outputs": [
        {
          "output_type": "execute_result",
          "data": {
            "text/html": [
              "<div>\n",
              "<style scoped>\n",
              "    .dataframe tbody tr th:only-of-type {\n",
              "        vertical-align: middle;\n",
              "    }\n",
              "\n",
              "    .dataframe tbody tr th {\n",
              "        vertical-align: top;\n",
              "    }\n",
              "\n",
              "    .dataframe thead th {\n",
              "        text-align: right;\n",
              "    }\n",
              "</style>\n",
              "<table border=\"1\" class=\"dataframe\">\n",
              "  <thead>\n",
              "    <tr style=\"text-align: right;\">\n",
              "      <th></th>\n",
              "      <th>Close</th>\n",
              "    </tr>\n",
              "    <tr>\n",
              "      <th>Date</th>\n",
              "      <th></th>\n",
              "    </tr>\n",
              "  </thead>\n",
              "  <tbody>\n",
              "    <tr>\n",
              "      <th>2001-01-02</th>\n",
              "      <td>-0.950633</td>\n",
              "    </tr>\n",
              "    <tr>\n",
              "      <th>2001-01-03</th>\n",
              "      <td>-0.949201</td>\n",
              "    </tr>\n",
              "    <tr>\n",
              "      <th>2001-01-04</th>\n",
              "      <td>-0.947275</td>\n",
              "    </tr>\n",
              "    <tr>\n",
              "      <th>2001-01-05</th>\n",
              "      <td>-0.944897</td>\n",
              "    </tr>\n",
              "    <tr>\n",
              "      <th>2001-01-08</th>\n",
              "      <td>-0.947099</td>\n",
              "    </tr>\n",
              "    <tr>\n",
              "      <th>2001-01-09</th>\n",
              "      <td>-0.946929</td>\n",
              "    </tr>\n",
              "  </tbody>\n",
              "</table>\n",
              "</div>"
            ],
            "text/plain": [
              "               Close\n",
              "Date                \n",
              "2001-01-02 -0.950633\n",
              "2001-01-03 -0.949201\n",
              "2001-01-04 -0.947275\n",
              "2001-01-05 -0.944897\n",
              "2001-01-08 -0.947099\n",
              "2001-01-09 -0.946929"
            ]
          },
          "metadata": {},
          "execution_count": 68
        }
      ]
    },
    {
      "cell_type": "markdown",
      "metadata": {
        "id": "gmNVwBwMUxEu"
      },
      "source": [
        "## 2. News headlines data"
      ]
    },
    {
      "cell_type": "markdown",
      "metadata": {
        "id": "YmW0M9fxU5en"
      },
      "source": [
        "### Sentiment analysis"
      ]
    },
    {
      "cell_type": "code",
      "metadata": {
        "colab": {
          "base_uri": "https://localhost:8080/"
        },
        "id": "ZDX6U5e8K7Kt",
        "outputId": "0632ec7a-d2f9-49a5-c2db-469c8dee4553"
      },
      "source": [
        "nltk.download('vader_lexicon')\n",
        "from textblob import TextBlob"
      ],
      "execution_count": 69,
      "outputs": [
        {
          "output_type": "stream",
          "name": "stdout",
          "text": [
            "[nltk_data] Downloading package vader_lexicon to /root/nltk_data...\n",
            "[nltk_data]   Package vader_lexicon is already up-to-date!\n"
          ]
        }
      ]
    },
    {
      "cell_type": "code",
      "metadata": {
        "id": "_rE_dbYpK7H6"
      },
      "source": [
        "sia = SentimentIntensityAnalyzer()"
      ],
      "execution_count": 70,
      "outputs": []
    },
    {
      "cell_type": "code",
      "metadata": {
        "id": "IBwz1CcKK7FG"
      },
      "source": [
        "# Functions to get the subjectivity and polarity\n",
        "def getSubjectivity(text):\n",
        "  return TextBlob(text).sentiment.subjectivity\n",
        "\n",
        "def getPolarity(text):\n",
        "  return  TextBlob(text).sentiment.polarity"
      ],
      "execution_count": 71,
      "outputs": []
    },
    {
      "cell_type": "code",
      "metadata": {
        "colab": {
          "base_uri": "https://localhost:8080/",
          "height": 418
        },
        "id": "MdgQ7axnK653",
        "outputId": "71182f64-6331-40ac-b4cf-2e2313c73421"
      },
      "source": [
        "# Sentiment analysis\n",
        "news_df['Subjectivity'] = news_df['headline_text'].apply(getSubjectivity)\n",
        "news_df['Polarity'] = news_df['headline_text'].apply(getPolarity)\n",
        "news_df['Compound'] = [sia.polarity_scores(v)['compound'] for v in news_df['headline_text']]\n",
        "news_df['Negative'] = [sia.polarity_scores(v)['neg'] for v in news_df['headline_text']]\n",
        "news_df['Neutral'] = [sia.polarity_scores(v)['neu'] for v in news_df['headline_text']]\n",
        "news_df['Positive'] = [sia.polarity_scores(v)['pos'] for v in news_df['headline_text']]\n",
        "news_df[:11]"
      ],
      "execution_count": 72,
      "outputs": [
        {
          "output_type": "execute_result",
          "data": {
            "text/html": [
              "<div>\n",
              "<style scoped>\n",
              "    .dataframe tbody tr th:only-of-type {\n",
              "        vertical-align: middle;\n",
              "    }\n",
              "\n",
              "    .dataframe tbody tr th {\n",
              "        vertical-align: top;\n",
              "    }\n",
              "\n",
              "    .dataframe thead th {\n",
              "        text-align: right;\n",
              "    }\n",
              "</style>\n",
              "<table border=\"1\" class=\"dataframe\">\n",
              "  <thead>\n",
              "    <tr style=\"text-align: right;\">\n",
              "      <th></th>\n",
              "      <th>headline_text</th>\n",
              "      <th>Subjectivity</th>\n",
              "      <th>Polarity</th>\n",
              "      <th>Compound</th>\n",
              "      <th>Negative</th>\n",
              "      <th>Neutral</th>\n",
              "      <th>Positive</th>\n",
              "    </tr>\n",
              "    <tr>\n",
              "      <th>date</th>\n",
              "      <th></th>\n",
              "      <th></th>\n",
              "      <th></th>\n",
              "      <th></th>\n",
              "      <th></th>\n",
              "      <th></th>\n",
              "      <th></th>\n",
              "    </tr>\n",
              "  </thead>\n",
              "  <tbody>\n",
              "    <tr>\n",
              "      <th>2001-01-02</th>\n",
              "      <td>status quo disturbed ayodhya say vajpayee fiss...</td>\n",
              "      <td>0.273264</td>\n",
              "      <td>0.136806</td>\n",
              "      <td>-0.9486</td>\n",
              "      <td>0.147</td>\n",
              "      <td>0.747</td>\n",
              "      <td>0.106</td>\n",
              "    </tr>\n",
              "    <tr>\n",
              "      <th>2001-01-03</th>\n",
              "      <td>powerless north india grope dark think laxman ...</td>\n",
              "      <td>0.458333</td>\n",
              "      <td>0.062500</td>\n",
              "      <td>0.2023</td>\n",
              "      <td>0.140</td>\n",
              "      <td>0.717</td>\n",
              "      <td>0.143</td>\n",
              "    </tr>\n",
              "    <tr>\n",
              "      <th>2001-01-04</th>\n",
              "      <td>the string pulled stephen hawking india vajpay...</td>\n",
              "      <td>0.449244</td>\n",
              "      <td>0.071931</td>\n",
              "      <td>0.5106</td>\n",
              "      <td>0.124</td>\n",
              "      <td>0.752</td>\n",
              "      <td>0.123</td>\n",
              "    </tr>\n",
              "    <tr>\n",
              "      <th>2001-01-05</th>\n",
              "      <td>light combat craft take india club class hawki...</td>\n",
              "      <td>0.477807</td>\n",
              "      <td>0.266578</td>\n",
              "      <td>0.9740</td>\n",
              "      <td>0.149</td>\n",
              "      <td>0.667</td>\n",
              "      <td>0.183</td>\n",
              "    </tr>\n",
              "    <tr>\n",
              "      <th>2001-01-06</th>\n",
              "      <td>light combat craft take india club class hawki...</td>\n",
              "      <td>0.439394</td>\n",
              "      <td>0.248485</td>\n",
              "      <td>-0.4215</td>\n",
              "      <td>0.166</td>\n",
              "      <td>0.678</td>\n",
              "      <td>0.156</td>\n",
              "    </tr>\n",
              "    <tr>\n",
              "      <th>2001-01-07</th>\n",
              "      <td>muslim body rule talk ayodhya bajrang dal blow...</td>\n",
              "      <td>0.375748</td>\n",
              "      <td>-0.058139</td>\n",
              "      <td>-0.9944</td>\n",
              "      <td>0.161</td>\n",
              "      <td>0.806</td>\n",
              "      <td>0.033</td>\n",
              "    </tr>\n",
              "    <tr>\n",
              "      <th>2001-01-08</th>\n",
              "      <td>sangh parivar babri panel ante frontrunner key...</td>\n",
              "      <td>0.411492</td>\n",
              "      <td>-0.038444</td>\n",
              "      <td>-0.9666</td>\n",
              "      <td>0.139</td>\n",
              "      <td>0.775</td>\n",
              "      <td>0.086</td>\n",
              "    </tr>\n",
              "    <tr>\n",
              "      <th>2001-01-09</th>\n",
              "      <td>financier bharat shah held alleged link chotta...</td>\n",
              "      <td>0.513554</td>\n",
              "      <td>-0.063411</td>\n",
              "      <td>-0.9947</td>\n",
              "      <td>0.167</td>\n",
              "      <td>0.768</td>\n",
              "      <td>0.064</td>\n",
              "    </tr>\n",
              "    <tr>\n",
              "      <th>2001-01-10</th>\n",
              "      <td>fend pande tell doctor bureaucracy undermining...</td>\n",
              "      <td>0.000000</td>\n",
              "      <td>0.000000</td>\n",
              "      <td>-0.7845</td>\n",
              "      <td>0.345</td>\n",
              "      <td>0.655</td>\n",
              "      <td>0.000</td>\n",
              "    </tr>\n",
              "    <tr>\n",
              "      <th>2001-01-23</th>\n",
              "      <td>sonia take hindutva brigade congress hope soar...</td>\n",
              "      <td>0.268245</td>\n",
              "      <td>0.070265</td>\n",
              "      <td>0.9228</td>\n",
              "      <td>0.060</td>\n",
              "      <td>0.828</td>\n",
              "      <td>0.113</td>\n",
              "    </tr>\n",
              "    <tr>\n",
              "      <th>2001-01-24</th>\n",
              "      <td>govt extends j k ceasefire month peace hinge h...</td>\n",
              "      <td>0.244286</td>\n",
              "      <td>0.080952</td>\n",
              "      <td>0.2263</td>\n",
              "      <td>0.138</td>\n",
              "      <td>0.716</td>\n",
              "      <td>0.146</td>\n",
              "    </tr>\n",
              "  </tbody>\n",
              "</table>\n",
              "</div>"
            ],
            "text/plain": [
              "                                                headline_text  ...  Positive\n",
              "date                                                           ...          \n",
              "2001-01-02  status quo disturbed ayodhya say vajpayee fiss...  ...     0.106\n",
              "2001-01-03  powerless north india grope dark think laxman ...  ...     0.143\n",
              "2001-01-04  the string pulled stephen hawking india vajpay...  ...     0.123\n",
              "2001-01-05  light combat craft take india club class hawki...  ...     0.183\n",
              "2001-01-06  light combat craft take india club class hawki...  ...     0.156\n",
              "2001-01-07  muslim body rule talk ayodhya bajrang dal blow...  ...     0.033\n",
              "2001-01-08  sangh parivar babri panel ante frontrunner key...  ...     0.086\n",
              "2001-01-09  financier bharat shah held alleged link chotta...  ...     0.064\n",
              "2001-01-10  fend pande tell doctor bureaucracy undermining...  ...     0.000\n",
              "2001-01-23  sonia take hindutva brigade congress hope soar...  ...     0.113\n",
              "2001-01-24  govt extends j k ceasefire month peace hinge h...  ...     0.146\n",
              "\n",
              "[11 rows x 7 columns]"
            ]
          },
          "metadata": {},
          "execution_count": 72
        }
      ]
    },
    {
      "cell_type": "markdown",
      "metadata": {
        "id": "7UOh0dAF1Yl-"
      },
      "source": [
        "# 3. Merging BSE and News headlines data"
      ]
    },
    {
      "cell_type": "code",
      "metadata": {
        "id": "4vlG_hh708Wj"
      },
      "source": [
        "news_df.insert(loc = 0, column = 'key', value = news_df.index)\n",
        "stock_df.insert(loc = 0, column = 'key', value = stock_df.index)"
      ],
      "execution_count": 73,
      "outputs": []
    },
    {
      "cell_type": "code",
      "metadata": {
        "colab": {
          "base_uri": "https://localhost:8080/",
          "height": 357
        },
        "id": "mpq7-KsF2cnP",
        "outputId": "9534bced-78bb-4f0f-93ae-ef640ea18f7d"
      },
      "source": [
        "df = pd.merge(stock_df, news_df, how='inner', on='key')\n",
        "df.head(10)"
      ],
      "execution_count": 74,
      "outputs": [
        {
          "output_type": "execute_result",
          "data": {
            "text/html": [
              "<div>\n",
              "<style scoped>\n",
              "    .dataframe tbody tr th:only-of-type {\n",
              "        vertical-align: middle;\n",
              "    }\n",
              "\n",
              "    .dataframe tbody tr th {\n",
              "        vertical-align: top;\n",
              "    }\n",
              "\n",
              "    .dataframe thead th {\n",
              "        text-align: right;\n",
              "    }\n",
              "</style>\n",
              "<table border=\"1\" class=\"dataframe\">\n",
              "  <thead>\n",
              "    <tr style=\"text-align: right;\">\n",
              "      <th></th>\n",
              "      <th>key</th>\n",
              "      <th>Close</th>\n",
              "      <th>headline_text</th>\n",
              "      <th>Subjectivity</th>\n",
              "      <th>Polarity</th>\n",
              "      <th>Compound</th>\n",
              "      <th>Negative</th>\n",
              "      <th>Neutral</th>\n",
              "      <th>Positive</th>\n",
              "    </tr>\n",
              "  </thead>\n",
              "  <tbody>\n",
              "    <tr>\n",
              "      <th>0</th>\n",
              "      <td>2001-01-02</td>\n",
              "      <td>-0.950633</td>\n",
              "      <td>status quo disturbed ayodhya say vajpayee fiss...</td>\n",
              "      <td>0.273264</td>\n",
              "      <td>0.136806</td>\n",
              "      <td>-0.9486</td>\n",
              "      <td>0.147</td>\n",
              "      <td>0.747</td>\n",
              "      <td>0.106</td>\n",
              "    </tr>\n",
              "    <tr>\n",
              "      <th>1</th>\n",
              "      <td>2001-01-03</td>\n",
              "      <td>-0.949201</td>\n",
              "      <td>powerless north india grope dark think laxman ...</td>\n",
              "      <td>0.458333</td>\n",
              "      <td>0.062500</td>\n",
              "      <td>0.2023</td>\n",
              "      <td>0.140</td>\n",
              "      <td>0.717</td>\n",
              "      <td>0.143</td>\n",
              "    </tr>\n",
              "    <tr>\n",
              "      <th>2</th>\n",
              "      <td>2001-01-04</td>\n",
              "      <td>-0.947275</td>\n",
              "      <td>the string pulled stephen hawking india vajpay...</td>\n",
              "      <td>0.449244</td>\n",
              "      <td>0.071931</td>\n",
              "      <td>0.5106</td>\n",
              "      <td>0.124</td>\n",
              "      <td>0.752</td>\n",
              "      <td>0.123</td>\n",
              "    </tr>\n",
              "    <tr>\n",
              "      <th>3</th>\n",
              "      <td>2001-01-05</td>\n",
              "      <td>-0.944897</td>\n",
              "      <td>light combat craft take india club class hawki...</td>\n",
              "      <td>0.477807</td>\n",
              "      <td>0.266578</td>\n",
              "      <td>0.9740</td>\n",
              "      <td>0.149</td>\n",
              "      <td>0.667</td>\n",
              "      <td>0.183</td>\n",
              "    </tr>\n",
              "    <tr>\n",
              "      <th>4</th>\n",
              "      <td>2001-01-08</td>\n",
              "      <td>-0.947099</td>\n",
              "      <td>sangh parivar babri panel ante frontrunner key...</td>\n",
              "      <td>0.411492</td>\n",
              "      <td>-0.038444</td>\n",
              "      <td>-0.9666</td>\n",
              "      <td>0.139</td>\n",
              "      <td>0.775</td>\n",
              "      <td>0.086</td>\n",
              "    </tr>\n",
              "    <tr>\n",
              "      <th>5</th>\n",
              "      <td>2001-01-09</td>\n",
              "      <td>-0.946929</td>\n",
              "      <td>financier bharat shah held alleged link chotta...</td>\n",
              "      <td>0.513554</td>\n",
              "      <td>-0.063411</td>\n",
              "      <td>-0.9947</td>\n",
              "      <td>0.167</td>\n",
              "      <td>0.768</td>\n",
              "      <td>0.064</td>\n",
              "    </tr>\n",
              "    <tr>\n",
              "      <th>6</th>\n",
              "      <td>2001-01-10</td>\n",
              "      <td>-0.949632</td>\n",
              "      <td>fend pande tell doctor bureaucracy undermining...</td>\n",
              "      <td>0.000000</td>\n",
              "      <td>0.000000</td>\n",
              "      <td>-0.7845</td>\n",
              "      <td>0.345</td>\n",
              "      <td>0.655</td>\n",
              "      <td>0.000</td>\n",
              "    </tr>\n",
              "    <tr>\n",
              "      <th>7</th>\n",
              "      <td>2001-01-23</td>\n",
              "      <td>-0.940966</td>\n",
              "      <td>sonia take hindutva brigade congress hope soar...</td>\n",
              "      <td>0.268245</td>\n",
              "      <td>0.070265</td>\n",
              "      <td>0.9228</td>\n",
              "      <td>0.060</td>\n",
              "      <td>0.828</td>\n",
              "      <td>0.113</td>\n",
              "    </tr>\n",
              "    <tr>\n",
              "      <th>8</th>\n",
              "      <td>2001-01-24</td>\n",
              "      <td>-0.939932</td>\n",
              "      <td>govt extends j k ceasefire month peace hinge h...</td>\n",
              "      <td>0.244286</td>\n",
              "      <td>0.080952</td>\n",
              "      <td>0.2263</td>\n",
              "      <td>0.138</td>\n",
              "      <td>0.716</td>\n",
              "      <td>0.146</td>\n",
              "    </tr>\n",
              "    <tr>\n",
              "      <th>9</th>\n",
              "      <td>2001-01-25</td>\n",
              "      <td>-0.939799</td>\n",
              "      <td>big bath pass without hitch security bandobast...</td>\n",
              "      <td>0.453185</td>\n",
              "      <td>0.029029</td>\n",
              "      <td>-0.9887</td>\n",
              "      <td>0.178</td>\n",
              "      <td>0.726</td>\n",
              "      <td>0.096</td>\n",
              "    </tr>\n",
              "  </tbody>\n",
              "</table>\n",
              "</div>"
            ],
            "text/plain": [
              "         key     Close  ... Neutral  Positive\n",
              "0 2001-01-02 -0.950633  ...   0.747     0.106\n",
              "1 2001-01-03 -0.949201  ...   0.717     0.143\n",
              "2 2001-01-04 -0.947275  ...   0.752     0.123\n",
              "3 2001-01-05 -0.944897  ...   0.667     0.183\n",
              "4 2001-01-08 -0.947099  ...   0.775     0.086\n",
              "5 2001-01-09 -0.946929  ...   0.768     0.064\n",
              "6 2001-01-10 -0.949632  ...   0.655     0.000\n",
              "7 2001-01-23 -0.940966  ...   0.828     0.113\n",
              "8 2001-01-24 -0.939932  ...   0.716     0.146\n",
              "9 2001-01-25 -0.939799  ...   0.726     0.096\n",
              "\n",
              "[10 rows x 9 columns]"
            ]
          },
          "metadata": {},
          "execution_count": 74
        }
      ]
    },
    {
      "cell_type": "code",
      "metadata": {
        "id": "Y4Dj5URXxXII"
      },
      "source": [
        "#df.to_csv('MergedData.csv')"
      ],
      "execution_count": 75,
      "outputs": []
    },
    {
      "cell_type": "code",
      "metadata": {
        "id": "MtAyIZDx4E5Z"
      },
      "source": [
        "df['key'] = pd.to_datetime(df['key'])\n",
        "df.set_index('key',inplace=True)"
      ],
      "execution_count": 76,
      "outputs": []
    },
    {
      "cell_type": "markdown",
      "metadata": {
        "id": "Y0jouiGu30Bu"
      },
      "source": [
        "## Feature selection"
      ]
    },
    {
      "cell_type": "code",
      "metadata": {
        "colab": {
          "base_uri": "https://localhost:8080/",
          "height": 234
        },
        "id": "8vgolCCH3o7l",
        "outputId": "98f962a4-b19c-4061-ae78-896530859531"
      },
      "source": [
        "df.head()"
      ],
      "execution_count": 77,
      "outputs": [
        {
          "output_type": "execute_result",
          "data": {
            "text/html": [
              "<div>\n",
              "<style scoped>\n",
              "    .dataframe tbody tr th:only-of-type {\n",
              "        vertical-align: middle;\n",
              "    }\n",
              "\n",
              "    .dataframe tbody tr th {\n",
              "        vertical-align: top;\n",
              "    }\n",
              "\n",
              "    .dataframe thead th {\n",
              "        text-align: right;\n",
              "    }\n",
              "</style>\n",
              "<table border=\"1\" class=\"dataframe\">\n",
              "  <thead>\n",
              "    <tr style=\"text-align: right;\">\n",
              "      <th></th>\n",
              "      <th>Close</th>\n",
              "      <th>headline_text</th>\n",
              "      <th>Subjectivity</th>\n",
              "      <th>Polarity</th>\n",
              "      <th>Compound</th>\n",
              "      <th>Negative</th>\n",
              "      <th>Neutral</th>\n",
              "      <th>Positive</th>\n",
              "    </tr>\n",
              "    <tr>\n",
              "      <th>key</th>\n",
              "      <th></th>\n",
              "      <th></th>\n",
              "      <th></th>\n",
              "      <th></th>\n",
              "      <th></th>\n",
              "      <th></th>\n",
              "      <th></th>\n",
              "      <th></th>\n",
              "    </tr>\n",
              "  </thead>\n",
              "  <tbody>\n",
              "    <tr>\n",
              "      <th>2001-01-02</th>\n",
              "      <td>-0.950633</td>\n",
              "      <td>status quo disturbed ayodhya say vajpayee fiss...</td>\n",
              "      <td>0.273264</td>\n",
              "      <td>0.136806</td>\n",
              "      <td>-0.9486</td>\n",
              "      <td>0.147</td>\n",
              "      <td>0.747</td>\n",
              "      <td>0.106</td>\n",
              "    </tr>\n",
              "    <tr>\n",
              "      <th>2001-01-03</th>\n",
              "      <td>-0.949201</td>\n",
              "      <td>powerless north india grope dark think laxman ...</td>\n",
              "      <td>0.458333</td>\n",
              "      <td>0.062500</td>\n",
              "      <td>0.2023</td>\n",
              "      <td>0.140</td>\n",
              "      <td>0.717</td>\n",
              "      <td>0.143</td>\n",
              "    </tr>\n",
              "    <tr>\n",
              "      <th>2001-01-04</th>\n",
              "      <td>-0.947275</td>\n",
              "      <td>the string pulled stephen hawking india vajpay...</td>\n",
              "      <td>0.449244</td>\n",
              "      <td>0.071931</td>\n",
              "      <td>0.5106</td>\n",
              "      <td>0.124</td>\n",
              "      <td>0.752</td>\n",
              "      <td>0.123</td>\n",
              "    </tr>\n",
              "    <tr>\n",
              "      <th>2001-01-05</th>\n",
              "      <td>-0.944897</td>\n",
              "      <td>light combat craft take india club class hawki...</td>\n",
              "      <td>0.477807</td>\n",
              "      <td>0.266578</td>\n",
              "      <td>0.9740</td>\n",
              "      <td>0.149</td>\n",
              "      <td>0.667</td>\n",
              "      <td>0.183</td>\n",
              "    </tr>\n",
              "    <tr>\n",
              "      <th>2001-01-08</th>\n",
              "      <td>-0.947099</td>\n",
              "      <td>sangh parivar babri panel ante frontrunner key...</td>\n",
              "      <td>0.411492</td>\n",
              "      <td>-0.038444</td>\n",
              "      <td>-0.9666</td>\n",
              "      <td>0.139</td>\n",
              "      <td>0.775</td>\n",
              "      <td>0.086</td>\n",
              "    </tr>\n",
              "  </tbody>\n",
              "</table>\n",
              "</div>"
            ],
            "text/plain": [
              "               Close  ... Positive\n",
              "key                   ...         \n",
              "2001-01-02 -0.950633  ...    0.106\n",
              "2001-01-03 -0.949201  ...    0.143\n",
              "2001-01-04 -0.947275  ...    0.123\n",
              "2001-01-05 -0.944897  ...    0.183\n",
              "2001-01-08 -0.947099  ...    0.086\n",
              "\n",
              "[5 rows x 8 columns]"
            ]
          },
          "metadata": {},
          "execution_count": 77
        }
      ]
    },
    {
      "cell_type": "code",
      "metadata": {
        "id": "C03RNfS04R-j"
      },
      "source": [
        "data = df.copy()"
      ],
      "execution_count": 78,
      "outputs": []
    },
    {
      "cell_type": "code",
      "metadata": {
        "colab": {
          "base_uri": "https://localhost:8080/",
          "height": 234
        },
        "id": "gSvUgYEm4b3A",
        "outputId": "146a6bb1-ee26-43bf-87db-fa456f106a74"
      },
      "source": [
        "df = df.drop(['headline_text'],axis = 1)\n",
        "df.head()"
      ],
      "execution_count": 79,
      "outputs": [
        {
          "output_type": "execute_result",
          "data": {
            "text/html": [
              "<div>\n",
              "<style scoped>\n",
              "    .dataframe tbody tr th:only-of-type {\n",
              "        vertical-align: middle;\n",
              "    }\n",
              "\n",
              "    .dataframe tbody tr th {\n",
              "        vertical-align: top;\n",
              "    }\n",
              "\n",
              "    .dataframe thead th {\n",
              "        text-align: right;\n",
              "    }\n",
              "</style>\n",
              "<table border=\"1\" class=\"dataframe\">\n",
              "  <thead>\n",
              "    <tr style=\"text-align: right;\">\n",
              "      <th></th>\n",
              "      <th>Close</th>\n",
              "      <th>Subjectivity</th>\n",
              "      <th>Polarity</th>\n",
              "      <th>Compound</th>\n",
              "      <th>Negative</th>\n",
              "      <th>Neutral</th>\n",
              "      <th>Positive</th>\n",
              "    </tr>\n",
              "    <tr>\n",
              "      <th>key</th>\n",
              "      <th></th>\n",
              "      <th></th>\n",
              "      <th></th>\n",
              "      <th></th>\n",
              "      <th></th>\n",
              "      <th></th>\n",
              "      <th></th>\n",
              "    </tr>\n",
              "  </thead>\n",
              "  <tbody>\n",
              "    <tr>\n",
              "      <th>2001-01-02</th>\n",
              "      <td>-0.950633</td>\n",
              "      <td>0.273264</td>\n",
              "      <td>0.136806</td>\n",
              "      <td>-0.9486</td>\n",
              "      <td>0.147</td>\n",
              "      <td>0.747</td>\n",
              "      <td>0.106</td>\n",
              "    </tr>\n",
              "    <tr>\n",
              "      <th>2001-01-03</th>\n",
              "      <td>-0.949201</td>\n",
              "      <td>0.458333</td>\n",
              "      <td>0.062500</td>\n",
              "      <td>0.2023</td>\n",
              "      <td>0.140</td>\n",
              "      <td>0.717</td>\n",
              "      <td>0.143</td>\n",
              "    </tr>\n",
              "    <tr>\n",
              "      <th>2001-01-04</th>\n",
              "      <td>-0.947275</td>\n",
              "      <td>0.449244</td>\n",
              "      <td>0.071931</td>\n",
              "      <td>0.5106</td>\n",
              "      <td>0.124</td>\n",
              "      <td>0.752</td>\n",
              "      <td>0.123</td>\n",
              "    </tr>\n",
              "    <tr>\n",
              "      <th>2001-01-05</th>\n",
              "      <td>-0.944897</td>\n",
              "      <td>0.477807</td>\n",
              "      <td>0.266578</td>\n",
              "      <td>0.9740</td>\n",
              "      <td>0.149</td>\n",
              "      <td>0.667</td>\n",
              "      <td>0.183</td>\n",
              "    </tr>\n",
              "    <tr>\n",
              "      <th>2001-01-08</th>\n",
              "      <td>-0.947099</td>\n",
              "      <td>0.411492</td>\n",
              "      <td>-0.038444</td>\n",
              "      <td>-0.9666</td>\n",
              "      <td>0.139</td>\n",
              "      <td>0.775</td>\n",
              "      <td>0.086</td>\n",
              "    </tr>\n",
              "  </tbody>\n",
              "</table>\n",
              "</div>"
            ],
            "text/plain": [
              "               Close  Subjectivity  Polarity  ...  Negative  Neutral  Positive\n",
              "key                                           ...                             \n",
              "2001-01-02 -0.950633      0.273264  0.136806  ...     0.147    0.747     0.106\n",
              "2001-01-03 -0.949201      0.458333  0.062500  ...     0.140    0.717     0.143\n",
              "2001-01-04 -0.947275      0.449244  0.071931  ...     0.124    0.752     0.123\n",
              "2001-01-05 -0.944897      0.477807  0.266578  ...     0.149    0.667     0.183\n",
              "2001-01-08 -0.947099      0.411492 -0.038444  ...     0.139    0.775     0.086\n",
              "\n",
              "[5 rows x 7 columns]"
            ]
          },
          "metadata": {},
          "execution_count": 79
        }
      ]
    },
    {
      "cell_type": "markdown",
      "metadata": {
        "id": "4kkymQFj4odJ"
      },
      "source": [
        "# Modelling"
      ]
    },
    {
      "cell_type": "markdown",
      "metadata": {
        "id": "quu3TPZpRWkb"
      },
      "source": [
        "## Splitting data"
      ]
    },
    {
      "cell_type": "code",
      "metadata": {
        "id": "QSTLWFuNxQdW"
      },
      "source": [
        "df1 = df.copy()\n",
        "time_step = 100\n",
        "for i in range(1, time_step+1):\n",
        "  df1[f'{i}'] = df['Close'].shift(i)\n",
        "df1.dropna(inplace=True)"
      ],
      "execution_count": 348,
      "outputs": []
    },
    {
      "cell_type": "code",
      "metadata": {
        "id": "-w6HAWZZROOg"
      },
      "source": [
        "# Into train and test\n",
        "training_size = int(len(df1) * 0.65)      # 65% of length of data\n",
        "test_size = len(df1) - training_size      # 35% of length of data\n",
        "train_data, test_data = df1.iloc[0:training_size, :], df1.iloc[training_size:len(df1), :]"
      ],
      "execution_count": 349,
      "outputs": []
    },
    {
      "cell_type": "code",
      "metadata": {
        "colab": {
          "base_uri": "https://localhost:8080/"
        },
        "id": "BAh9xjt-Re19",
        "outputId": "11a4979c-2567-4c3b-bf5a-1846efbc2863"
      },
      "source": [
        "len(df1),training_size , test_size "
      ],
      "execution_count": 350,
      "outputs": [
        {
          "output_type": "execute_result",
          "data": {
            "text/plain": [
              "(4793, 3115, 1678)"
            ]
          },
          "metadata": {},
          "execution_count": 350
        }
      ]
    },
    {
      "cell_type": "code",
      "metadata": {
        "id": "cMi5ujBLVoZu"
      },
      "source": [
        "# Into dependent and independent features\n",
        "X_train = train_data.iloc[:,1:]\n",
        "X_test = test_data.iloc[:,1:]\n",
        "y_train = train_data.iloc[:,0]\n",
        "y_test = test_data.iloc[:,0]"
      ],
      "execution_count": 354,
      "outputs": []
    },
    {
      "cell_type": "code",
      "metadata": {
        "id": "w4pbtPwpRm30"
      },
      "source": [
        "X_train = np.array(X_train)\n",
        "X_test = np.array(X_test)\n",
        "y_train = np.array(y_train)\n",
        "y_test = np.array(y_test)"
      ],
      "execution_count": 355,
      "outputs": []
    },
    {
      "cell_type": "code",
      "metadata": {
        "colab": {
          "base_uri": "https://localhost:8080/"
        },
        "id": "rGcQUNw0z5ul",
        "outputId": "4a95c793-15d3-426d-d858-967b98488d7d"
      },
      "source": [
        "X_train.shape, y_train.shape, X_test.shape , y_test.shape"
      ],
      "execution_count": 366,
      "outputs": [
        {
          "output_type": "execute_result",
          "data": {
            "text/plain": [
              "((3115, 106, 1), (3115,), (1678, 106, 1), (1678,))"
            ]
          },
          "metadata": {},
          "execution_count": 366
        }
      ]
    },
    {
      "cell_type": "code",
      "metadata": {
        "id": "x0DEdd28z9Eg"
      },
      "source": [
        "# reshape input to be [samples, time steps, features] which is required for LSTM\n",
        "X_train =X_train.reshape(X_train.shape[0],X_train.shape[1] , 1)\n",
        "X_test = X_test.reshape(X_test.shape[0],X_test.shape[1] , 1)"
      ],
      "execution_count": 358,
      "outputs": []
    },
    {
      "cell_type": "markdown",
      "metadata": {
        "id": "DmfTSzGo0D8v"
      },
      "source": [
        "## Creating Stacked LSTM model"
      ]
    },
    {
      "cell_type": "code",
      "metadata": {
        "id": "rSvsP9c00A6V"
      },
      "source": [
        "### Create the Stacked LSTM model\n",
        "from tensorflow.keras.models import Sequential\n",
        "from tensorflow.keras.layers import Dense , LSTM , Dropout\n",
        "from keras.wrappers.scikit_learn import KerasRegressor"
      ],
      "execution_count": 359,
      "outputs": []
    },
    {
      "cell_type": "code",
      "metadata": {
        "id": "H85Twu0W0MuX"
      },
      "source": [
        "model=Sequential()\n",
        "model.add(LSTM(100,return_sequences=True,input_shape=(106,1)))\n",
        "model.add(Dropout(0.1))\n",
        "model.add(LSTM(50,return_sequences=True))\n",
        "model.add(Dropout(0.1))\n",
        "model.add(LSTM(50))\n",
        "model.add(Dropout(0.1))\n",
        "model.add(Dense(1))\n",
        "model.compile(loss='mean_squared_error',optimizer='adam')"
      ],
      "execution_count": 363,
      "outputs": []
    },
    {
      "cell_type": "code",
      "metadata": {
        "colab": {
          "base_uri": "https://localhost:8080/"
        },
        "id": "fHGBas2L0QcB",
        "outputId": "50697e26-45ea-4eac-bfc8-ca8b68afc95f"
      },
      "source": [
        "model.summary()"
      ],
      "execution_count": 364,
      "outputs": [
        {
          "output_type": "stream",
          "name": "stdout",
          "text": [
            "Model: \"sequential_1\"\n",
            "_________________________________________________________________\n",
            "Layer (type)                 Output Shape              Param #   \n",
            "=================================================================\n",
            "lstm_3 (LSTM)                (None, 106, 100)          40800     \n",
            "_________________________________________________________________\n",
            "dropout_3 (Dropout)          (None, 106, 100)          0         \n",
            "_________________________________________________________________\n",
            "lstm_4 (LSTM)                (None, 106, 50)           30200     \n",
            "_________________________________________________________________\n",
            "dropout_4 (Dropout)          (None, 106, 50)           0         \n",
            "_________________________________________________________________\n",
            "lstm_5 (LSTM)                (None, 50)                20200     \n",
            "_________________________________________________________________\n",
            "dropout_5 (Dropout)          (None, 50)                0         \n",
            "_________________________________________________________________\n",
            "dense_1 (Dense)              (None, 1)                 51        \n",
            "=================================================================\n",
            "Total params: 91,251\n",
            "Trainable params: 91,251\n",
            "Non-trainable params: 0\n",
            "_________________________________________________________________\n"
          ]
        }
      ]
    },
    {
      "cell_type": "code",
      "metadata": {
        "colab": {
          "base_uri": "https://localhost:8080/"
        },
        "id": "__Xz--D60S3L",
        "outputId": "9ac3b55f-c83e-45be-a491-cc73b48858d5"
      },
      "source": [
        "model.fit(X_train,y_train,validation_data=(X_test,y_test),epochs=50,batch_size=20,verbose=1)"
      ],
      "execution_count": 367,
      "outputs": [
        {
          "output_type": "stream",
          "name": "stdout",
          "text": [
            "Epoch 1/50\n",
            "156/156 [==============================] - 34s 220ms/step - loss: 0.0020 - val_loss: 0.0308\n",
            "Epoch 2/50\n",
            "156/156 [==============================] - 32s 205ms/step - loss: 0.0018 - val_loss: 0.0299\n",
            "Epoch 3/50\n",
            "156/156 [==============================] - 31s 200ms/step - loss: 0.0018 - val_loss: 0.0385\n",
            "Epoch 4/50\n",
            "156/156 [==============================] - 32s 205ms/step - loss: 0.0017 - val_loss: 0.1131\n",
            "Epoch 5/50\n",
            "156/156 [==============================] - 31s 202ms/step - loss: 0.0014 - val_loss: 0.0694\n",
            "Epoch 6/50\n",
            "156/156 [==============================] - 31s 201ms/step - loss: 0.0014 - val_loss: 0.0690\n",
            "Epoch 7/50\n",
            "156/156 [==============================] - 31s 200ms/step - loss: 0.0012 - val_loss: 0.0904\n",
            "Epoch 8/50\n",
            "156/156 [==============================] - 31s 202ms/step - loss: 9.7589e-04 - val_loss: 0.0727\n",
            "Epoch 9/50\n",
            "156/156 [==============================] - 32s 204ms/step - loss: 8.9690e-04 - val_loss: 0.0746\n",
            "Epoch 10/50\n",
            "156/156 [==============================] - 32s 202ms/step - loss: 8.2916e-04 - val_loss: 0.2280\n",
            "Epoch 11/50\n",
            "156/156 [==============================] - 32s 203ms/step - loss: 9.4934e-04 - val_loss: 0.0909\n",
            "Epoch 12/50\n",
            "156/156 [==============================] - 31s 198ms/step - loss: 7.5649e-04 - val_loss: 0.0912\n",
            "Epoch 13/50\n",
            "156/156 [==============================] - 31s 198ms/step - loss: 6.9382e-04 - val_loss: 0.0918\n",
            "Epoch 14/50\n",
            "156/156 [==============================] - 31s 201ms/step - loss: 8.6900e-04 - val_loss: 0.0917\n",
            "Epoch 15/50\n",
            "156/156 [==============================] - 31s 198ms/step - loss: 6.8894e-04 - val_loss: 0.0920\n",
            "Epoch 16/50\n",
            "156/156 [==============================] - 31s 201ms/step - loss: 6.8358e-04 - val_loss: 0.0863\n",
            "Epoch 17/50\n",
            "156/156 [==============================] - 32s 203ms/step - loss: 6.7531e-04 - val_loss: 0.0855\n",
            "Epoch 18/50\n",
            "156/156 [==============================] - 32s 204ms/step - loss: 6.9716e-04 - val_loss: 0.0796\n",
            "Epoch 19/50\n",
            "156/156 [==============================] - 32s 203ms/step - loss: 5.4588e-04 - val_loss: 0.0802\n",
            "Epoch 20/50\n",
            "156/156 [==============================] - 33s 209ms/step - loss: 6.2440e-04 - val_loss: 0.0880\n",
            "Epoch 21/50\n",
            "156/156 [==============================] - 32s 207ms/step - loss: 5.7016e-04 - val_loss: 0.0861\n",
            "Epoch 22/50\n",
            "156/156 [==============================] - 32s 203ms/step - loss: 5.4612e-04 - val_loss: 0.1367\n",
            "Epoch 23/50\n",
            "156/156 [==============================] - 32s 207ms/step - loss: 5.3176e-04 - val_loss: 0.1813\n",
            "Epoch 24/50\n",
            "156/156 [==============================] - 32s 208ms/step - loss: 5.2194e-04 - val_loss: 0.2142\n",
            "Epoch 25/50\n",
            "156/156 [==============================] - 32s 206ms/step - loss: 5.0961e-04 - val_loss: 0.2758\n",
            "Epoch 26/50\n",
            "156/156 [==============================] - 32s 204ms/step - loss: 5.2092e-04 - val_loss: 0.2489\n",
            "Epoch 27/50\n",
            "156/156 [==============================] - 32s 207ms/step - loss: 5.5350e-04 - val_loss: 0.0939\n",
            "Epoch 28/50\n",
            "156/156 [==============================] - 32s 207ms/step - loss: 8.6983e-04 - val_loss: 0.0796\n",
            "Epoch 29/50\n",
            "156/156 [==============================] - 32s 206ms/step - loss: 6.9487e-04 - val_loss: 0.0873\n",
            "Epoch 30/50\n",
            "156/156 [==============================] - 32s 206ms/step - loss: 5.0466e-04 - val_loss: 0.0866\n",
            "Epoch 31/50\n",
            "156/156 [==============================] - 32s 204ms/step - loss: 5.3023e-04 - val_loss: 0.0748\n",
            "Epoch 32/50\n",
            "156/156 [==============================] - 31s 201ms/step - loss: 4.2878e-04 - val_loss: 0.0897\n",
            "Epoch 33/50\n",
            "156/156 [==============================] - 32s 203ms/step - loss: 4.3984e-04 - val_loss: 0.0983\n",
            "Epoch 34/50\n",
            "156/156 [==============================] - 32s 206ms/step - loss: 3.8549e-04 - val_loss: 0.0947\n",
            "Epoch 35/50\n",
            "156/156 [==============================] - 32s 204ms/step - loss: 3.9557e-04 - val_loss: 0.0790\n",
            "Epoch 36/50\n",
            "156/156 [==============================] - 32s 205ms/step - loss: 3.7550e-04 - val_loss: 0.0929\n",
            "Epoch 37/50\n",
            "156/156 [==============================] - 32s 203ms/step - loss: 3.7484e-04 - val_loss: 0.0866\n",
            "Epoch 38/50\n",
            "156/156 [==============================] - 31s 202ms/step - loss: 4.0036e-04 - val_loss: 0.0868\n",
            "Epoch 39/50\n",
            "156/156 [==============================] - 32s 206ms/step - loss: 3.3534e-04 - val_loss: 0.0856\n",
            "Epoch 40/50\n",
            "156/156 [==============================] - 32s 202ms/step - loss: 3.1984e-04 - val_loss: 0.1109\n",
            "Epoch 41/50\n",
            "156/156 [==============================] - 31s 202ms/step - loss: 3.0319e-04 - val_loss: 0.0790\n",
            "Epoch 42/50\n",
            "156/156 [==============================] - 33s 209ms/step - loss: 3.6499e-04 - val_loss: 0.0742\n",
            "Epoch 43/50\n",
            "156/156 [==============================] - 32s 205ms/step - loss: 3.7673e-04 - val_loss: 0.0864\n",
            "Epoch 44/50\n",
            "156/156 [==============================] - 33s 211ms/step - loss: 3.2601e-04 - val_loss: 0.0779\n",
            "Epoch 45/50\n",
            "156/156 [==============================] - 32s 208ms/step - loss: 3.0490e-04 - val_loss: 0.1186\n",
            "Epoch 46/50\n",
            "156/156 [==============================] - 32s 207ms/step - loss: 3.1387e-04 - val_loss: 0.0795\n",
            "Epoch 47/50\n",
            "156/156 [==============================] - 32s 204ms/step - loss: 3.2999e-04 - val_loss: 0.0784\n",
            "Epoch 48/50\n",
            "156/156 [==============================] - 32s 206ms/step - loss: 2.9143e-04 - val_loss: 0.0884\n",
            "Epoch 49/50\n",
            "156/156 [==============================] - 32s 208ms/step - loss: 2.7424e-04 - val_loss: 0.1036\n",
            "Epoch 50/50\n",
            "156/156 [==============================] - 32s 206ms/step - loss: 2.9754e-04 - val_loss: 0.0824\n"
          ]
        },
        {
          "output_type": "execute_result",
          "data": {
            "text/plain": [
              "<keras.callbacks.History at 0x7fd728abe9d0>"
            ]
          },
          "metadata": {},
          "execution_count": 367
        }
      ]
    },
    {
      "cell_type": "code",
      "metadata": {
        "id": "uq7J0L7h0VuZ"
      },
      "source": [
        "train_predict=model.predict(X_train)\n",
        "test_predict=model.predict(X_test)"
      ],
      "execution_count": 368,
      "outputs": []
    },
    {
      "cell_type": "code",
      "metadata": {
        "id": "HVgS2Gtb06G-"
      },
      "source": [
        "# Transformback to original form\n",
        "train_predict=scaler.inverse_transform(train_predict)\n",
        "test_predict=scaler.inverse_transform(test_predict)"
      ],
      "execution_count": 369,
      "outputs": []
    },
    {
      "cell_type": "code",
      "metadata": {
        "id": "fsaeyfcBFmm_"
      },
      "source": [
        "y_train = scaler.inverse_transform(np.array(y_train).reshape(-1,1))\n",
        "y_test = scaler.inverse_transform(np.array(y_test).reshape(-1,1))"
      ],
      "execution_count": 377,
      "outputs": []
    },
    {
      "cell_type": "markdown",
      "metadata": {
        "id": "4mxspAfx1ddu"
      },
      "source": [
        "# Performance evaluation"
      ]
    },
    {
      "cell_type": "markdown",
      "metadata": {
        "id": "m0gi3lFm1Yri"
      },
      "source": [
        "## Calculating RMSE Score"
      ]
    },
    {
      "cell_type": "code",
      "metadata": {
        "colab": {
          "base_uri": "https://localhost:8080/"
        },
        "id": "dlvJsNEH1X_Q",
        "outputId": "d802d848-0cb6-4c1f-bac9-8e4fbf87618e"
      },
      "source": [
        "# Calculating RMSE performance metrics\n",
        "from sklearn.metrics import mean_squared_error\n",
        "rmse = np.round(np.sqrt(mean_squared_error(y_test,test_predict)),2)\n",
        "print('RMSE Value: ',rmse)"
      ],
      "execution_count": 379,
      "outputs": [
        {
          "output_type": "stream",
          "name": "stdout",
          "text": [
            "RMSE Value:  12964.47\n"
          ]
        }
      ]
    },
    {
      "cell_type": "code",
      "metadata": {
        "id": "LLWcd444GevH"
      },
      "source": [
        "eval_df = pd.DataFrame(y_test, columns = ['Close'])\n",
        "eval_df['Predicted Close'] = test_predict"
      ],
      "execution_count": 386,
      "outputs": []
    },
    {
      "cell_type": "code",
      "metadata": {
        "colab": {
          "base_uri": "https://localhost:8080/",
          "height": 516
        },
        "id": "I5RXfgBjGhIp",
        "outputId": "a0919bb2-4655-4488-b27e-5a035c5c79d7"
      },
      "source": [
        "eval_df['Close'].plot(figsize=(13,8), label = 'Actual', color = 'cyan')\n",
        "eval_df['Predicted Close'].plot(figsize=(13,8), label = 'Predicted', color = 'orange')\n",
        "plt.title('Predictions using LSTM')\n",
        "plt.legend()"
      ],
      "execution_count": 416,
      "outputs": [
        {
          "output_type": "execute_result",
          "data": {
            "text/plain": [
              "<matplotlib.legend.Legend at 0x7fd726a1a450>"
            ]
          },
          "metadata": {},
          "execution_count": 416
        },
        {
          "output_type": "display_data",
          "data": {
            "image/png": "[encoded data removed]",
            "text/plain": [
              "<Figure size 936x576 with 1 Axes>"
            ]
          },
          "metadata": {
            "needs_background": "light"
          }
        }
      ]
    },
    {
      "cell_type": "markdown",
      "metadata": {
        "id": "iEBKUyijHnv0"
      },
      "source": [
        "#### Very high rmse observed"
      ]
    },
    {
      "cell_type": "markdown",
      "metadata": {
        "id": "pNzPAC8nHtTt"
      },
      "source": [
        "## Random Forest Regressor"
      ]
    },
    {
      "cell_type": "code",
      "metadata": {
        "id": "xrDNOedQIYwd"
      },
      "source": [
        "# Splitting data into train and test\n",
        "training_size = int(len(df1) * 0.65)      # 65% of length of data\n",
        "test_size = len(df1) - training_size      # 35% of length of data\n",
        "train_data, test_data = df1.iloc[0:training_size, :], df1.iloc[training_size:len(df1), :]\n",
        "# Splitting data into dependent and independent features\n",
        "X_train = train_data.iloc[:,1:]\n",
        "X_test = test_data.iloc[:,1:]\n",
        "y_train = train_data.iloc[:,0]\n",
        "y_test = test_data.iloc[:,0]"
      ],
      "execution_count": 406,
      "outputs": []
    },
    {
      "cell_type": "code",
      "metadata": {
        "id": "lrBfEt-5HJNY"
      },
      "source": [
        "from sklearn.ensemble import RandomForestRegressor\n",
        "rf = RandomForestRegressor()\n",
        "rf.fit(X_train, y_train)\n",
        "y_pred = rf.predict(X_test)"
      ],
      "execution_count": 407,
      "outputs": []
    },
    {
      "cell_type": "code",
      "metadata": {
        "colab": {
          "base_uri": "https://localhost:8080/"
        },
        "id": "WnL7VCHZITJk",
        "outputId": "ae0ddc42-467a-4cd5-e7b2-17e47baf79ab"
      },
      "source": [
        "mse = mean_squared_error(y_test,y_pred)\n",
        "rmse = np.round(np.sqrt(mse),4)\n",
        "print('RMSE Value: ',rmse)"
      ],
      "execution_count": 408,
      "outputs": [
        {
          "output_type": "stream",
          "name": "stdout",
          "text": [
            "RMSE Value:  0.2684\n"
          ]
        }
      ]
    },
    {
      "cell_type": "code",
      "metadata": {
        "id": "4dH3yvz2JPXL"
      },
      "source": [
        "# Transforming into original value\n",
        "y_test = scaler.inverse_transform(np.array(y_test).reshape(-1,1))\n",
        "y_pred = scaler.inverse_transform(np.array(y_pred).reshape(-1,1))"
      ],
      "execution_count": 413,
      "outputs": []
    },
    {
      "cell_type": "code",
      "metadata": {
        "colab": {
          "base_uri": "https://localhost:8080/"
        },
        "id": "1dQFPWpeK4I6",
        "outputId": "d063c164-dc5c-439a-ccfe-ac4527b5689c"
      },
      "source": [
        "mse = mean_squared_error(y_test,y_pred)\n",
        "rmse = np.round(np.sqrt(mse),4)\n",
        "print('RMSE Value: ',rmse)"
      ],
      "execution_count": 414,
      "outputs": [
        {
          "output_type": "stream",
          "name": "stdout",
          "text": [
            "RMSE Value:  12120.4603\n"
          ]
        }
      ]
    },
    {
      "cell_type": "code",
      "metadata": {
        "id": "7F7g9OVJJtBG"
      },
      "source": [
        "eval_df2 = pd.DataFrame(y_test, columns = ['Close'])\n",
        "eval_df2['Predicted Close rf'] = y_pred"
      ],
      "execution_count": 409,
      "outputs": []
    },
    {
      "cell_type": "code",
      "metadata": {
        "colab": {
          "base_uri": "https://localhost:8080/",
          "height": 498
        },
        "id": "PkpISk-JJ4jW",
        "outputId": "e9ccee2e-0ad1-46bf-f67d-e2f48f5e8190"
      },
      "source": [
        "eval_df2['Close'].plot(figsize=(13,8), label = 'Actual', color = 'cyan')\n",
        "eval_df2['Predicted Close rf'].plot(figsize=(13,8), label = 'Predicted', color = 'orange')\n",
        "plt.title('Predictions using Random Forest')\n",
        "plt.legend()"
      ],
      "execution_count": 415,
      "outputs": [
        {
          "output_type": "execute_result",
          "data": {
            "text/plain": [
              "<matplotlib.legend.Legend at 0x7fd728abed50>"
            ]
          },
          "metadata": {},
          "execution_count": 415
        },
        {
          "output_type": "display_data",
          "data": {
            "image/png": "[encoded data removed]",
            "text/plain": [
              "<Figure size 936x576 with 1 Axes>"
            ]
          },
          "metadata": {
            "needs_background": "light"
          }
        }
      ]
    },
    {
      "cell_type": "markdown",
      "metadata": {
        "id": "-EE2wiR1LGn7"
      },
      "source": [
        "# Conclusion\n",
        "1. Two models namely LSTM and Random Forest was used for predicting stock price. Although both models didn't perform well, unlike Random Forest, the LSTM model offered some variations in the predictions which makes it slightly better model. \n",
        "2. Stock price was predicted by taking into account the sentiment value of news headlines as well as the past 100 days Close price. But, the error and variance observed was quite high. Thus, it makes it unfit for our model to be used in real time stock price analysis."
      ]
    }
  ]
}